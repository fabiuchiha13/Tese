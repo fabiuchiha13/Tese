{
 "cells": [
  {
   "cell_type": "code",
   "execution_count": 1,
   "id": "0b1c2009",
   "metadata": {},
   "outputs": [],
   "source": [
    "import networkx as nx\n",
    "import pandas as pd\n",
    "import numpy as np\n",
    "from cdlib import algorithms, readwrite, evaluation, NodeClustering\n",
    "from cdlib.benchmark import LFR\n",
    "import matplotlib.pyplot as plt\n",
    "import time\n",
    "import csv\n",
    "from infomap import Infomap"
   ]
  },
  {
   "cell_type": "code",
   "execution_count": 2,
   "id": "53266471",
   "metadata": {},
   "outputs": [],
   "source": [
    "def averageDegree(graph):\n",
    "    degrees = [val for (node, val) in graph.degree()]\n",
    "    sum = 0\n",
    "    for d in degrees:\n",
    "        sum += d\n",
    "    return sum/len(degrees)"
   ]
  },
  {
   "cell_type": "code",
   "execution_count": 3,
   "id": "3f6bc2a1",
   "metadata": {},
   "outputs": [],
   "source": [
    "def kin(graph):\n",
    "    nodes = graph.nodes()\n",
    "    sum = 0\n",
    "    for n in nodes:\n",
    "        sum += graph.in_degree(n)\n",
    "    return sum/len(nodes)"
   ]
  },
  {
   "cell_type": "code",
   "execution_count": 4,
   "id": "acca999a",
   "metadata": {},
   "outputs": [],
   "source": [
    "def kout(graph):\n",
    "    nodes = graph.nodes()\n",
    "    sum = 0\n",
    "    for n in nodes:\n",
    "        sum += graph.out_degree(n)\n",
    "    return sum/len(nodes)"
   ]
  },
  {
   "cell_type": "code",
   "execution_count": 5,
   "id": "cd399ca5",
   "metadata": {},
   "outputs": [],
   "source": [
    "def APL(graph):\n",
    "    if (nx.is_directed(graph)):\n",
    "        largestComponent = 0\n",
    "        largestAPL = 0\n",
    "        for C in (graph.subgraph(c) for c in nx.weakly_connected_components(graph)):\n",
    "            if largestComponent<len(C.nodes):\n",
    "                largestComponent = len(C.nodes)\n",
    "                apl = nx.average_shortest_path_length(C)\n",
    "                largestAPL = apl\n",
    "        return largestAPL\n",
    "    else:\n",
    "        for C in (graph.subgraph(c) for c in nx.connected_components(graph)):\n",
    "            return nx.average_shortest_path_length(C)"
   ]
  },
  {
   "cell_type": "code",
   "execution_count": 6,
   "id": "681a7ab5",
   "metadata": {},
   "outputs": [],
   "source": [
    "def transcriptionFactors(graph):\n",
    "    sourceNodes = []\n",
    "    for e in graph.edges():\n",
    "        sourceNodes.append(e[0])\n",
    "    return len(set(sourceNodes))"
   ]
  },
  {
   "cell_type": "code",
   "execution_count": 7,
   "id": "64b28a13",
   "metadata": {},
   "outputs": [],
   "source": [
    "def targetGenes(graph):\n",
    "    targetNodes = []\n",
    "    for e in graph.edges():\n",
    "        targetNodes.append(e[1])\n",
    "    return len(set(targetNodes))"
   ]
  },
  {
   "cell_type": "code",
   "execution_count": 8,
   "id": "9f54e42a",
   "metadata": {},
   "outputs": [],
   "source": [
    "def networkInfo(graph):\n",
    "    print(\"Transcription Factors:\", transcriptionFactors(graph))\n",
    "    print(\"Target Genes:\", targetGenes(graph))\n",
    "    print(\"Average degree:\", averageDegree(graph))\n",
    "    print(\"Internal average degree:\", kin(graph))\n",
    "    print(\"External average degree:\", kout(graph))\n",
    "    print(\"Clustering coefficient:\", nx.average_clustering(graph))\n",
    "    print(\"Average Path Length (highest value):\", APL(graph))"
   ]
  },
  {
   "cell_type": "code",
   "execution_count": 9,
   "id": "c56e3b10",
   "metadata": {},
   "outputs": [],
   "source": [
    "def plotDegreeDistribution(graph):\n",
    "    fig = plt.figure(figsize=(6*1.61803398875, 6))\n",
    "    ax = plt.axes((0.2, 0.2, 0.70, 0.70), facecolor='w')\n",
    "    d = np.array(nx.degree_histogram(graph))\n",
    "    y = d / len(graph.nodes)\n",
    "    x = np.arange(len(y))\n",
    "    ax.plot(x,y,\"go\")\n",
    "    ax.set_xlabel(\"k\")\n",
    "    ax.set_ylabel(\"Pk\")\n",
    "    ax.set_yscale('log')\n",
    "    ax.set_xscale('log')\n",
    "    ax.set_title(\"Degree distribution\")\n",
    "    #ax.legend()\n",
    "    fig.savefig((\"Images/DegreeDistribution_%s.png\" % (graph.name)))\n",
    "    plt.close(fig)"
   ]
  },
  {
   "cell_type": "code",
   "execution_count": 10,
   "id": "239f5f66",
   "metadata": {},
   "outputs": [],
   "source": [
    "def txtToNetworkx(fileName, directed):\n",
    "    raw = pd.read_csv(fileName, sep=\"\\t\", usecols=[0,2], header=None)\n",
    "    raw.columns = ['Source', 'Target']\n",
    "    if directed:\n",
    "        network = nx.from_pandas_edgelist(raw, source='Source', target='Target', edge_attr=None, create_using=nx.DiGraph())\n",
    "    else:\n",
    "        network = nx.from_pandas_edgelist(raw, source='Source', target='Target', edge_attr=None)\n",
    "    network.name = fileName.split(\".\")[0]\n",
    "    return network"
   ]
  },
  {
   "cell_type": "markdown",
   "id": "e9f7fc30",
   "metadata": {},
   "source": [
    "## Sc "
   ]
  },
  {
   "cell_type": "code",
   "execution_count": 11,
   "id": "265ec06d",
   "metadata": {},
   "outputs": [
    {
     "name": "stdout",
     "output_type": "stream",
     "text": [
      "DiGraph named 'Networks/Yeast/Sc_net' with 6886 nodes and 195498 edges\n",
      "\n",
      "Graph named 'Networks/Yeast/Sc_net' with 6886 nodes and 194865 edges\n"
     ]
    }
   ],
   "source": [
    "ScNet_dir = txtToNetworkx('Networks/Yeast/Sc_net.txt', True)\n",
    "print(ScNet_dir)\n",
    "#networkInfo(ScNet_dir)\n",
    "print()\n",
    "ScNet_und = txtToNetworkx('Networks/Yeast/Sc_net.txt', False)\n",
    "print(ScNet_und)"
   ]
  },
  {
   "cell_type": "code",
   "execution_count": 12,
   "id": "68afb856",
   "metadata": {},
   "outputs": [],
   "source": [
    "ScNet_dir_int = nx.convert_node_labels_to_integers(ScNet_dir)\n",
    "ScNet_und_int = nx.convert_node_labels_to_integers(ScNet_und)"
   ]
  },
  {
   "cell_type": "markdown",
   "id": "8044a1d9",
   "metadata": {},
   "source": [
    "## Ca "
   ]
  },
  {
   "cell_type": "code",
   "execution_count": 25,
   "id": "698d3156",
   "metadata": {},
   "outputs": [
    {
     "name": "stdout",
     "output_type": "stream",
     "text": [
      "DiGraph named 'Networks/Yeast/Ca_net' with 6015 nodes and 35687 edges\n",
      "Transcription Factors: 118\n",
      "Target Genes: 6015\n",
      "Average degree: 11.86600166251039\n",
      "Internal average degree: 5.933000831255195\n",
      "External average degree: 5.933000831255195\n",
      "Clustering coefficient: 0.27748432380066496\n",
      "Average Path Length (highest value): 0.033561147568944835\n",
      "\n",
      "Graph named 'Networks/Yeast/Ca_net' with 6015 nodes and 35582 edges\n"
     ]
    }
   ],
   "source": [
    "CaNet_dir = txtToNetworkx('Networks/Yeast/Ca_net.txt', True)\n",
    "print(CaNet_dir)\n",
    "networkInfo(CaNet_dir)\n",
    "print()\n",
    "CaNet_und = txtToNetworkx('Networks/Yeast/Ca_net.txt', False)\n",
    "print(CaNet_und)"
   ]
  },
  {
   "cell_type": "markdown",
   "id": "0106401e",
   "metadata": {},
   "source": [
    "## Yl "
   ]
  },
  {
   "cell_type": "code",
   "execution_count": 26,
   "id": "79b80225",
   "metadata": {},
   "outputs": [
    {
     "name": "stdout",
     "output_type": "stream",
     "text": [
      "DiGraph named 'Networks/Yeast/Yl_net' with 5288 nodes and 9238 edges\n",
      "Transcription Factors: 5\n",
      "Target Genes: 5288\n",
      "Average degree: 3.493948562783661\n",
      "Internal average degree: 1.7469742813918305\n",
      "External average degree: 1.7469742813918305\n",
      "Clustering coefficient: 0.36379908022118507\n",
      "Average Path Length (highest value): 0.0009717910543001173\n",
      "\n",
      "Graph named 'Networks/Yeast/Yl_net' with 5288 nodes and 9237 edges\n"
     ]
    }
   ],
   "source": [
    "YlNet_dir = txtToNetworkx('Networks/Yeast/Yl_net.txt', True)\n",
    "print(YlNet_dir)\n",
    "networkInfo(YlNet_dir)\n",
    "print()\n",
    "YlNet_und = txtToNetworkx('Networks/Yeast/Yl_net.txt', False)\n",
    "print(YlNet_und)"
   ]
  },
  {
   "cell_type": "markdown",
   "id": "1317e27e",
   "metadata": {},
   "source": [
    "## Cp "
   ]
  },
  {
   "cell_type": "code",
   "execution_count": 27,
   "id": "7b8faef5",
   "metadata": {},
   "outputs": [
    {
     "name": "stdout",
     "output_type": "stream",
     "text": [
      "DiGraph named 'Networks/Yeast/Cp_net' with 3381 nodes and 6986 edges\n",
      "Transcription Factors: 11\n",
      "Target Genes: 3380\n",
      "Average degree: 4.132505175983437\n",
      "Internal average degree: 2.0662525879917184\n",
      "External average degree: 2.0662525879917184\n",
      "Clustering coefficient: 0.24723282938034807\n",
      "Average Path Length (highest value): 0.00291718951537394\n",
      "\n",
      "Graph named 'Networks/Yeast/Cp_net' with 3381 nodes and 6984 edges\n"
     ]
    }
   ],
   "source": [
    "CpNet_dir = txtToNetworkx('Networks/Yeast/Cp_net.txt', True)\n",
    "print(CpNet_dir)\n",
    "networkInfo(CpNet_dir)\n",
    "print()\n",
    "CpNet_und = txtToNetworkx('Networks/Yeast/Cp_net.txt', False)\n",
    "print(CpNet_und)"
   ]
  },
  {
   "cell_type": "markdown",
   "id": "467e9877",
   "metadata": {},
   "source": [
    "## Cg"
   ]
  },
  {
   "cell_type": "code",
   "execution_count": 28,
   "id": "0d3107be",
   "metadata": {},
   "outputs": [
    {
     "name": "stdout",
     "output_type": "stream",
     "text": [
      "DiGraph named 'Networks/Yeast/Cg_net' with 2133 nodes and 3508 edges\n",
      "Transcription Factors: 40\n",
      "Target Genes: 2116\n",
      "Average degree: 3.2892639474917957\n",
      "Internal average degree: 1.6446319737458979\n",
      "External average degree: 1.6446319737458979\n",
      "Clustering coefficient: 0.045236801428956815\n",
      "Average Path Length (highest value): 0.001647275186557281\n",
      "\n",
      "Graph named 'Networks/Yeast/Cg_net' with 2133 nodes and 3508 edges\n"
     ]
    }
   ],
   "source": [
    "CgNet_dir = txtToNetworkx('Networks/Yeast/Cg_net.txt', True)\n",
    "print(CgNet_dir)\n",
    "networkInfo(CgNet_dir)\n",
    "print()\n",
    "CgNet_und = txtToNetworkx('Networks/Yeast/Cg_net.txt', False)\n",
    "print(CgNet_und)"
   ]
  },
  {
   "cell_type": "markdown",
   "id": "57222346",
   "metadata": {},
   "source": [
    "## Ct"
   ]
  },
  {
   "cell_type": "code",
   "execution_count": 29,
   "id": "a69800ab",
   "metadata": {},
   "outputs": [
    {
     "name": "stdout",
     "output_type": "stream",
     "text": [
      "DiGraph named 'Networks/Yeast/Ct_net' with 665 nodes and 698 edges\n",
      "Transcription Factors: 16\n",
      "Target Genes: 663\n",
      "Average degree: 2.099248120300752\n",
      "Internal average degree: 1.049624060150376\n",
      "External average degree: 1.049624060150376\n",
      "Clustering coefficient: 0.007634087729790835\n",
      "Average Path Length (highest value): 0.0406060331551771\n",
      "\n",
      "Graph named 'Networks/Yeast/Ct_net' with 665 nodes and 690 edges\n"
     ]
    }
   ],
   "source": [
    "CtNet_dir = txtToNetworkx('Networks/Yeast/Ct_net.txt', True)\n",
    "print(CtNet_dir)\n",
    "networkInfo(CtNet_dir)\n",
    "print()\n",
    "CtNet_und = txtToNetworkx('Networks/Yeast/Ct_net.txt', False)\n",
    "print(CtNet_und)"
   ]
  },
  {
   "cell_type": "markdown",
   "id": "3cc21b63",
   "metadata": {},
   "source": [
    "## Kp "
   ]
  },
  {
   "cell_type": "code",
   "execution_count": 30,
   "id": "72c0dd98",
   "metadata": {},
   "outputs": [
    {
     "name": "stdout",
     "output_type": "stream",
     "text": [
      "DiGraph named 'Networks/Yeast/Kp_net' with 561 nodes and 581 edges\n",
      "Transcription Factors: 4\n",
      "Target Genes: 559\n",
      "Average degree: 2.071301247771836\n",
      "Internal average degree: 1.035650623885918\n",
      "External average degree: 1.035650623885918\n",
      "Clustering coefficient: 0.013374627364972089\n",
      "Average Path Length (highest value): 0.0021899668958492487\n",
      "\n",
      "Graph named 'Networks/Yeast/Kp_net' with 561 nodes and 581 edges\n"
     ]
    }
   ],
   "source": [
    "KpNet_dir = txtToNetworkx('Networks/Yeast/Kp_net.txt', True)\n",
    "print(KpNet_dir)\n",
    "networkInfo(KpNet_dir)\n",
    "print()\n",
    "KpNet_und = txtToNetworkx('Networks/Yeast/Kp_net.txt', False)\n",
    "print(KpNet_und)"
   ]
  },
  {
   "cell_type": "markdown",
   "id": "c7d17a26",
   "metadata": {},
   "source": [
    "## Kl "
   ]
  },
  {
   "cell_type": "code",
   "execution_count": 31,
   "id": "344db2da",
   "metadata": {},
   "outputs": [
    {
     "name": "stdout",
     "output_type": "stream",
     "text": [
      "DiGraph named 'Networks/Yeast/Kl_net' with 111 nodes and 126 edges\n",
      "Transcription Factors: 10\n",
      "Target Genes: 106\n",
      "Average degree: 2.27027027027027\n",
      "Internal average degree: 1.135135135135135\n",
      "External average degree: 1.135135135135135\n",
      "Clustering coefficient: 0.15102602602602602\n",
      "Average Path Length (highest value): 0.014285714285714285\n",
      "\n",
      "Graph named 'Networks/Yeast/Kl_net' with 111 nodes and 125 edges\n"
     ]
    },
    {
     "data": {
      "image/png": "[encoded data removed]",
      "text/plain": [
       "<Figure size 432x288 with 1 Axes>"
      ]
     },
     "metadata": {},
     "output_type": "display_data"
    }
   ],
   "source": [
    "KlNet_dir = txtToNetworkx('Networks/Yeast/Kl_net.txt', True)\n",
    "print(KlNet_dir)\n",
    "networkInfo(KlNet_dir)\n",
    "nx.draw(KlNet_dir)\n",
    "print()\n",
    "KlNet_und = txtToNetworkx('Networks/Yeast/Kl_net.txt', False)\n",
    "print(KlNet_und)"
   ]
  },
  {
   "cell_type": "markdown",
   "id": "86253e49",
   "metadata": {},
   "source": [
    "## Zb "
   ]
  },
  {
   "cell_type": "code",
   "execution_count": 32,
   "id": "e89c2e7c",
   "metadata": {},
   "outputs": [
    {
     "name": "stdout",
     "output_type": "stream",
     "text": [
      "DiGraph named 'Networks/Yeast/Zb_net' with 32 nodes and 31 edges\n",
      "Transcription Factors: 1\n",
      "Target Genes: 31\n",
      "Average degree: 1.9375\n",
      "Internal average degree: 0.96875\n",
      "External average degree: 0.96875\n",
      "Clustering coefficient: 0.0\n",
      "Average Path Length (highest value): 0.03125\n",
      "\n",
      "Graph named 'Networks/Yeast/Zb_net' with 32 nodes and 31 edges\n"
     ]
    },
    {
     "data": {
      "image/png": "[encoded data removed]",
      "text/plain": [
       "<Figure size 432x288 with 1 Axes>"
      ]
     },
     "metadata": {},
     "output_type": "display_data"
    }
   ],
   "source": [
    "ZbNet_dir = txtToNetworkx('Networks/Yeast/Zb_net.txt', True)\n",
    "print(ZbNet_dir)\n",
    "networkInfo(ZbNet_dir)\n",
    "nx.draw(ZbNet_dir)\n",
    "print()\n",
    "ZbNet_und = txtToNetworkx('Networks/Yeast/Zb_net.txt', False)\n",
    "print(ZbNet_und)"
   ]
  },
  {
   "cell_type": "markdown",
   "id": "cfb89125",
   "metadata": {},
   "source": [
    "## Km"
   ]
  },
  {
   "cell_type": "code",
   "execution_count": 33,
   "id": "1c046b35",
   "metadata": {},
   "outputs": [
    {
     "name": "stdout",
     "output_type": "stream",
     "text": [
      "DiGraph named 'Networks/Yeast/Km_net' with 4 nodes and 3 edges\n",
      "Transcription Factors: 1\n",
      "Target Genes: 3\n",
      "Average degree: 1.5\n",
      "Internal average degree: 0.75\n",
      "External average degree: 0.75\n",
      "Clustering coefficient: 0.0\n",
      "Average Path Length (highest value): 0.25\n",
      "\n",
      "Graph named 'Networks/Yeast/Km_net' with 4 nodes and 3 edges\n"
     ]
    }
   ],
   "source": [
    "KmNet_dir = txtToNetworkx('Networks/Yeast/Km_net.txt', True)\n",
    "print(KmNet_dir)\n",
    "networkInfo(KmNet_dir)\n",
    "print()\n",
    "KmNet_und = txtToNetworkx('Networks/Yeast/Km_net.txt', False)\n",
    "print(KmNet_und)"
   ]
  },
  {
   "cell_type": "markdown",
   "id": "21699bff",
   "metadata": {},
   "source": [
    "# Methods"
   ]
  },
  {
   "cell_type": "markdown",
   "id": "96b32666",
   "metadata": {},
   "source": [
    "## Louvain "
   ]
  },
  {
   "cell_type": "code",
   "execution_count": 13,
   "id": "1ec43722",
   "metadata": {},
   "outputs": [
    {
     "name": "stdout",
     "output_type": "stream",
     "text": [
      "Execution time for Louvain in Sc net: 3.3343 seconds\n"
     ]
    }
   ],
   "source": [
    "start_time = time.time()\n",
    "ScLouvain = algorithms.louvain(ScNet_und)\n",
    "t = time.time() - start_time\n",
    "print(\"Execution time for Louvain in Sc net: %.6s seconds\" % (t))"
   ]
  },
  {
   "cell_type": "code",
   "execution_count": 19,
   "id": "4f2e3f12",
   "metadata": {},
   "outputs": [
    {
     "name": "stdout",
     "output_type": "stream",
     "text": [
      "Louvain Number of communities: 5\n",
      "Louvain Average Community Size: 1377.2\n",
      "Louvain Average Internal Degree: 20.25421302618794\n",
      "\n",
      "Louvain Newman-Girvan Modularity: 0.14537441064488676\n",
      "Louvain Erdos-Renyi Modularity: 0.132936441563361\n",
      "Louvain Z-Modularity: 0.32915539576248676\n",
      "Louvain Link Modularity: 0.05928289116612681\n",
      "Louvain Significance: 501077.87341259635\n"
     ]
    }
   ],
   "source": [
    "coms = list(ScLouvain.to_node_community_map().values())[-1][0]+1\n",
    "print(\"Louvain Number of communities:\", coms)\n",
    "\n",
    "ACS = evaluation.size(ScNet_und, ScLouvain)\n",
    "print(\"Louvain Average Community Size:\", ACS[2])\n",
    "\n",
    "AID = evaluation.average_internal_degree(ScNet_und, ScLouvain)\n",
    "print(\"Louvain Average Internal Degree:\", AID[2])\n",
    "\n",
    "print()\n",
    "\n",
    "NG_Mod = evaluation.newman_girvan_modularity(ScNet_und, ScLouvain)\n",
    "print(\"Louvain Newman-Girvan Modularity:\", NG_Mod[2])\n",
    "\n",
    "ER_Mod = evaluation.erdos_renyi_modularity(ScNet_und, ScLouvain)\n",
    "print(\"Louvain Erdos-Renyi Modularity:\", ER_Mod[2])\n",
    "\n",
    "Z_Mod = evaluation.z_modularity(ScNet_und, ScLouvain)\n",
    "print(\"Louvain Z-Modularity:\", Z_Mod[2])\n",
    "\n",
    "Link_Mod = evaluation.link_modularity(ScNet_und, ScLouvain)\n",
    "print(\"Louvain Link Modularity:\", Link_Mod[2])\n",
    "\n",
    "significance = evaluation.significance(ScNet_und, ScLouvain)\n",
    "print(\"Louvain Significance:\", significance[2])"
   ]
  },
  {
   "cell_type": "markdown",
   "id": "152e4394",
   "metadata": {},
   "source": [
    "## Leiden "
   ]
  },
  {
   "cell_type": "code",
   "execution_count": 20,
   "id": "e7f190b2",
   "metadata": {},
   "outputs": [
    {
     "name": "stdout",
     "output_type": "stream",
     "text": [
      "Execution time for Leiden in Sc net: 0.5777 seconds\n"
     ]
    }
   ],
   "source": [
    "start_time = time.time()\n",
    "ScLeiden = algorithms.leiden(ScNet_dir)\n",
    "t = time.time() - start_time\n",
    "print(\"Execution time for Leiden in Sc net: %.6s seconds\" % (t))"
   ]
  },
  {
   "cell_type": "code",
   "execution_count": 23,
   "id": "e70f9816",
   "metadata": {},
   "outputs": [
    {
     "name": "stdout",
     "output_type": "stream",
     "text": [
      "Leiden Number of communities: 5\n",
      "Leiden Average Community Size: 1377.2\n",
      "Leiden Average Internal Degree: 20.71200370123723\n",
      "\n",
      "Leiden Newman-Girvan Modularity: -0.04464175883665972\n",
      "Leiden Erdos-Renyi Modularity: 0.12415956825473186\n",
      "Leiden Z-Modularity: 0.34480148574703395\n",
      "Leiden Link Modularity: 0.027653973034389392\n",
      "Leiden Significance: 464291.61176329065\n"
     ]
    }
   ],
   "source": [
    "coms = list(ScLeiden.to_node_community_map().values())[-1][0]+1\n",
    "print(\"Leiden Number of communities:\", coms)\n",
    "\n",
    "ACS = evaluation.size(ScNet_dir, ScLeiden)\n",
    "print(\"Leiden Average Community Size:\", ACS[2])\n",
    "\n",
    "AID = evaluation.average_internal_degree(ScNet_dir, ScLeiden)\n",
    "print(\"Leiden Average Internal Degree:\", AID[2])\n",
    "\n",
    "print()\n",
    "\n",
    "NG_Mod = evaluation.newman_girvan_modularity(ScNet_dir, ScLeiden)\n",
    "print(\"Leiden Newman-Girvan Modularity:\", NG_Mod[2])\n",
    "\n",
    "ER_Mod = evaluation.erdos_renyi_modularity(ScNet_dir, ScLeiden)\n",
    "print(\"Leiden Erdos-Renyi Modularity:\", ER_Mod[2])\n",
    "\n",
    "Z_Mod = evaluation.z_modularity(ScNet_dir, ScLeiden)\n",
    "print(\"Leiden Z-Modularity:\", Z_Mod[2])\n",
    "\n",
    "Link_Mod = evaluation.link_modularity(ScNet_dir, ScLeiden)\n",
    "print(\"Leiden Link Modularity:\", Link_Mod[2])\n",
    "\n",
    "significance = evaluation.significance(ScNet_dir, ScLeiden)\n",
    "print(\"Leiden Significance:\", significance[2])"
   ]
  },
  {
   "cell_type": "markdown",
   "id": "71a9a0a0",
   "metadata": {},
   "source": [
    "## Edmot "
   ]
  },
  {
   "cell_type": "code",
   "execution_count": 23,
   "id": "d31f0d1b",
   "metadata": {},
   "outputs": [
    {
     "ename": "TypeError",
     "evalue": "Bad graph type, use only non directed graph",
     "output_type": "error",
     "traceback": [
      "\u001b[1;31m---------------------------------------------------------------------------\u001b[0m",
      "\u001b[1;31mTypeError\u001b[0m                                 Traceback (most recent call last)",
      "\u001b[1;32m~\\AppData\\Local\\Temp\\ipykernel_7552\\4240202288.py\u001b[0m in \u001b[0;36m<module>\u001b[1;34m\u001b[0m\n\u001b[0;32m      1\u001b[0m \u001b[0mstart_time\u001b[0m \u001b[1;33m=\u001b[0m \u001b[0mtime\u001b[0m\u001b[1;33m.\u001b[0m\u001b[0mtime\u001b[0m\u001b[1;33m(\u001b[0m\u001b[1;33m)\u001b[0m\u001b[1;33m\u001b[0m\u001b[1;33m\u001b[0m\u001b[0m\n\u001b[1;32m----> 2\u001b[1;33m \u001b[0mScEdmot\u001b[0m \u001b[1;33m=\u001b[0m \u001b[0malgorithms\u001b[0m\u001b[1;33m.\u001b[0m\u001b[0medmot\u001b[0m\u001b[1;33m(\u001b[0m\u001b[0mScNet_dir_int\u001b[0m\u001b[1;33m)\u001b[0m\u001b[1;33m\u001b[0m\u001b[1;33m\u001b[0m\u001b[0m\n\u001b[0m\u001b[0;32m      3\u001b[0m \u001b[0mt\u001b[0m \u001b[1;33m=\u001b[0m \u001b[0mtime\u001b[0m\u001b[1;33m.\u001b[0m\u001b[0mtime\u001b[0m\u001b[1;33m(\u001b[0m\u001b[1;33m)\u001b[0m \u001b[1;33m-\u001b[0m \u001b[0mstart_time\u001b[0m\u001b[1;33m\u001b[0m\u001b[1;33m\u001b[0m\u001b[0m\n\u001b[0;32m      4\u001b[0m \u001b[0mprint\u001b[0m\u001b[1;33m(\u001b[0m\u001b[1;34m\"Execution time for Louvain in Sc net: %.6s seconds\"\u001b[0m \u001b[1;33m%\u001b[0m \u001b[1;33m(\u001b[0m\u001b[0mt\u001b[0m\u001b[1;33m)\u001b[0m\u001b[1;33m)\u001b[0m\u001b[1;33m\u001b[0m\u001b[1;33m\u001b[0m\u001b[0m\n",
      "\u001b[1;32m~\\anaconda3\\lib\\site-packages\\cdlib\\algorithms\\crisp_partition.py\u001b[0m in \u001b[0;36medmot\u001b[1;34m(g_original, component_count, cutoff)\u001b[0m\n\u001b[0;32m   1721\u001b[0m     \u001b[0mmodel\u001b[0m \u001b[1;33m=\u001b[0m \u001b[0mEdMot\u001b[0m\u001b[1;33m(\u001b[0m\u001b[0mcomponent_count\u001b[0m\u001b[1;33m=\u001b[0m\u001b[1;36m2\u001b[0m\u001b[1;33m,\u001b[0m \u001b[0mcutoff\u001b[0m\u001b[1;33m=\u001b[0m\u001b[1;36m10\u001b[0m\u001b[1;33m)\u001b[0m\u001b[1;33m\u001b[0m\u001b[1;33m\u001b[0m\u001b[0m\n\u001b[0;32m   1722\u001b[0m \u001b[1;33m\u001b[0m\u001b[0m\n\u001b[1;32m-> 1723\u001b[1;33m     \u001b[0mmodel\u001b[0m\u001b[1;33m.\u001b[0m\u001b[0mfit\u001b[0m\u001b[1;33m(\u001b[0m\u001b[0mg\u001b[0m\u001b[1;33m)\u001b[0m\u001b[1;33m\u001b[0m\u001b[1;33m\u001b[0m\u001b[0m\n\u001b[0m\u001b[0;32m   1724\u001b[0m     \u001b[0mmembers\u001b[0m \u001b[1;33m=\u001b[0m \u001b[0mmodel\u001b[0m\u001b[1;33m.\u001b[0m\u001b[0mget_memberships\u001b[0m\u001b[1;33m(\u001b[0m\u001b[1;33m)\u001b[0m\u001b[1;33m\u001b[0m\u001b[1;33m\u001b[0m\u001b[0m\n\u001b[0;32m   1725\u001b[0m \u001b[1;33m\u001b[0m\u001b[0m\n",
      "\u001b[1;32m~\\anaconda3\\lib\\site-packages\\karateclub\\community_detection\\non_overlapping\\edmot.py\u001b[0m in \u001b[0;36mfit\u001b[1;34m(self, graph)\u001b[0m\n\u001b[0;32m     89\u001b[0m         \u001b[0mself\u001b[0m\u001b[1;33m.\u001b[0m\u001b[0m_extract_components\u001b[0m\u001b[1;33m(\u001b[0m\u001b[1;33m)\u001b[0m\u001b[1;33m\u001b[0m\u001b[1;33m\u001b[0m\u001b[0m\n\u001b[0;32m     90\u001b[0m         \u001b[0mself\u001b[0m\u001b[1;33m.\u001b[0m\u001b[0m_fill_blocks\u001b[0m\u001b[1;33m(\u001b[0m\u001b[1;33m)\u001b[0m\u001b[1;33m\u001b[0m\u001b[1;33m\u001b[0m\u001b[0m\n\u001b[1;32m---> 91\u001b[1;33m         \u001b[0mself\u001b[0m\u001b[1;33m.\u001b[0m\u001b[0m_partition\u001b[0m \u001b[1;33m=\u001b[0m \u001b[0mcommunity\u001b[0m\u001b[1;33m.\u001b[0m\u001b[0mbest_partition\u001b[0m\u001b[1;33m(\u001b[0m\u001b[0mself\u001b[0m\u001b[1;33m.\u001b[0m\u001b[0m_graph\u001b[0m\u001b[1;33m,\u001b[0m \u001b[0mrandom_state\u001b[0m\u001b[1;33m=\u001b[0m\u001b[0mself\u001b[0m\u001b[1;33m.\u001b[0m\u001b[0mseed\u001b[0m\u001b[1;33m)\u001b[0m\u001b[1;33m\u001b[0m\u001b[1;33m\u001b[0m\u001b[0m\n\u001b[0m\u001b[0;32m     92\u001b[0m \u001b[1;33m\u001b[0m\u001b[0m\n\u001b[0;32m     93\u001b[0m     \u001b[1;32mdef\u001b[0m \u001b[0mget_memberships\u001b[0m\u001b[1;33m(\u001b[0m\u001b[0mself\u001b[0m\u001b[1;33m)\u001b[0m \u001b[1;33m->\u001b[0m \u001b[0mDict\u001b[0m\u001b[1;33m[\u001b[0m\u001b[0mint\u001b[0m\u001b[1;33m,\u001b[0m \u001b[0mint\u001b[0m\u001b[1;33m]\u001b[0m\u001b[1;33m:\u001b[0m\u001b[1;33m\u001b[0m\u001b[1;33m\u001b[0m\u001b[0m\n",
      "\u001b[1;32m~\\anaconda3\\lib\\site-packages\\community\\community_louvain.py\u001b[0m in \u001b[0;36mbest_partition\u001b[1;34m(graph, partition, weight, resolution, randomize, random_state)\u001b[0m\n\u001b[0;32m    247\u001b[0m     \u001b[1;33m>>\u001b[0m\u001b[1;33m>\u001b[0m \u001b[0mplt\u001b[0m\u001b[1;33m.\u001b[0m\u001b[0mshow\u001b[0m\u001b[1;33m(\u001b[0m\u001b[1;33m)\u001b[0m\u001b[1;33m\u001b[0m\u001b[1;33m\u001b[0m\u001b[0m\n\u001b[0;32m    248\u001b[0m     \"\"\"\n\u001b[1;32m--> 249\u001b[1;33m     dendo = generate_dendrogram(graph,\n\u001b[0m\u001b[0;32m    250\u001b[0m                                 \u001b[0mpartition\u001b[0m\u001b[1;33m,\u001b[0m\u001b[1;33m\u001b[0m\u001b[1;33m\u001b[0m\u001b[0m\n\u001b[0;32m    251\u001b[0m                                 \u001b[0mweight\u001b[0m\u001b[1;33m,\u001b[0m\u001b[1;33m\u001b[0m\u001b[1;33m\u001b[0m\u001b[0m\n",
      "\u001b[1;32m~\\anaconda3\\lib\\site-packages\\community\\community_louvain.py\u001b[0m in \u001b[0;36mgenerate_dendrogram\u001b[1;34m(graph, part_init, weight, resolution, randomize, random_state)\u001b[0m\n\u001b[0;32m    320\u001b[0m     \"\"\"\n\u001b[0;32m    321\u001b[0m     \u001b[1;32mif\u001b[0m \u001b[0mgraph\u001b[0m\u001b[1;33m.\u001b[0m\u001b[0mis_directed\u001b[0m\u001b[1;33m(\u001b[0m\u001b[1;33m)\u001b[0m\u001b[1;33m:\u001b[0m\u001b[1;33m\u001b[0m\u001b[1;33m\u001b[0m\u001b[0m\n\u001b[1;32m--> 322\u001b[1;33m         \u001b[1;32mraise\u001b[0m \u001b[0mTypeError\u001b[0m\u001b[1;33m(\u001b[0m\u001b[1;34m\"Bad graph type, use only non directed graph\"\u001b[0m\u001b[1;33m)\u001b[0m\u001b[1;33m\u001b[0m\u001b[1;33m\u001b[0m\u001b[0m\n\u001b[0m\u001b[0;32m    323\u001b[0m \u001b[1;33m\u001b[0m\u001b[0m\n\u001b[0;32m    324\u001b[0m     \u001b[1;31m# Properly handle random state, eventually remove old `randomize` parameter\u001b[0m\u001b[1;33m\u001b[0m\u001b[1;33m\u001b[0m\u001b[0m\n",
      "\u001b[1;31mTypeError\u001b[0m: Bad graph type, use only non directed graph"
     ]
    }
   ],
   "source": [
    "start_time = time.time()\n",
    "ScEdmot = algorithms.edmot(ScNet_und_int)\n",
    "t = time.time() - start_time\n",
    "print(\"Execution time for Louvain in Sc net: %.6s seconds\" % (t))"
   ]
  },
  {
   "cell_type": "markdown",
   "id": "9cd3afcc",
   "metadata": {},
   "source": [
    "## Eigenvector "
   ]
  },
  {
   "cell_type": "code",
   "execution_count": 25,
   "id": "2498d0b4",
   "metadata": {},
   "outputs": [
    {
     "name": "stdout",
     "output_type": "stream",
     "text": [
      "Execution time for Eigenvector in Sc net: 2.2689 seconds\n"
     ]
    }
   ],
   "source": [
    "start_time = time.time()\n",
    "ScEigen = algorithms.eigenvector(ScNet_dir)\n",
    "t = time.time() - start_time\n",
    "print(\"Execution time for Eigenvector in Sc net: %.6s seconds\" % (t))"
   ]
  },
  {
   "cell_type": "code",
   "execution_count": 26,
   "id": "bde104bb",
   "metadata": {},
   "outputs": [
    {
     "name": "stdout",
     "output_type": "stream",
     "text": [
      "Eigenvector Number of communities: 2\n",
      "Eigenvector Average Community Size: 3443.0\n",
      "Eigenvector Average Internal Degree: 38.11270347051597\n",
      "\n",
      "Eigenvector Newman-Girvan Modularity: -0.20744227679124766\n",
      "Eigenvector Erdos-Renyi Modularity: 0.09986814459109675\n",
      "Eigenvector Z-Modularity: 0.20085636116372416\n",
      "Eigenvector Link Modularity: 0.04452695785996361\n",
      "Eigenvector Significance: 734256.7374615371\n"
     ]
    }
   ],
   "source": [
    "coms = list(ScEigen.to_node_community_map().values())[-1][0]+1\n",
    "print(\"Eigenvector Number of communities:\", coms)\n",
    "\n",
    "ACS = evaluation.size(ScNet_dir, ScEigen)\n",
    "print(\"Eigenvector Average Community Size:\", ACS[2])\n",
    "\n",
    "AID = evaluation.average_internal_degree(ScNet_dir, ScEigen)\n",
    "print(\"Eigenvector Average Internal Degree:\", AID[2])\n",
    "\n",
    "print()\n",
    "\n",
    "NG_Mod = evaluation.newman_girvan_modularity(ScNet_dir, ScEigen)\n",
    "print(\"Eigenvector Newman-Girvan Modularity:\", NG_Mod[2])\n",
    "\n",
    "ER_Mod = evaluation.erdos_renyi_modularity(ScNet_dir, ScEigen)\n",
    "print(\"Eigenvector Erdos-Renyi Modularity:\", ER_Mod[2])\n",
    "\n",
    "Z_Mod = evaluation.z_modularity(ScNet_dir, ScEigen)\n",
    "print(\"Eigenvector Z-Modularity:\", Z_Mod[2])\n",
    "\n",
    "Link_Mod = evaluation.link_modularity(ScNet_dir, ScEigen)\n",
    "print(\"Eigenvector Link Modularity:\", Link_Mod[2])\n",
    "\n",
    "significance = evaluation.significance(ScNet_dir, ScEigen)\n",
    "print(\"Eigenvector Significance:\", significance[2])"
   ]
  },
  {
   "cell_type": "markdown",
   "id": "680da87c",
   "metadata": {},
   "source": [
    "## Markov "
   ]
  },
  {
   "cell_type": "code",
   "execution_count": 27,
   "id": "51773d82",
   "metadata": {},
   "outputs": [
    {
     "name": "stdout",
     "output_type": "stream",
     "text": [
      "Execution time for Markov in Sc net: 3.9444 seconds\n"
     ]
    }
   ],
   "source": [
    "start_time = time.time()\n",
    "ScMarkov = algorithms.markov_clustering(ScNet_dir)\n",
    "t = time.time() - start_time\n",
    "print(\"Execution time for Markov in Sc net: %.6s seconds\" % (t))"
   ]
  },
  {
   "cell_type": "code",
   "execution_count": 28,
   "id": "95a9c413",
   "metadata": {},
   "outputs": [
    {
     "name": "stdout",
     "output_type": "stream",
     "text": [
      "Markov Number of communities: 1\n",
      "Markov Average Community Size: 6886.0\n",
      "Markov Average Internal Degree: 56.781295381934356\n",
      "\n",
      "Markov Newman-Girvan Modularity: -0.4996291522163909\n",
      "Markov Erdos-Renyi Modularity: 0.0\n",
      "Markov Z-Modularity: nan\n",
      "Markov Link Modularity: 0.07226140649622038\n",
      "Markov Significance: 1113874.2672711087\n"
     ]
    }
   ],
   "source": [
    "coms = list(ScMarkov.to_node_community_map().values())[-1][0]+1\n",
    "print(\"Markov Number of communities:\", coms)\n",
    "\n",
    "ACS = evaluation.size(ScNet_dir, ScMarkov)\n",
    "print(\"Markov Average Community Size:\", ACS[2])\n",
    "\n",
    "AID = evaluation.average_internal_degree(ScNet_dir, ScMarkov)\n",
    "print(\"Markov Average Internal Degree:\", AID[2])\n",
    "\n",
    "print()\n",
    "\n",
    "NG_Mod = evaluation.newman_girvan_modularity(ScNet_dir, ScMarkov)\n",
    "print(\"Markov Newman-Girvan Modularity:\", NG_Mod[2])\n",
    "\n",
    "ER_Mod = evaluation.erdos_renyi_modularity(ScNet_dir, ScMarkov)\n",
    "print(\"Markov Erdos-Renyi Modularity:\", ER_Mod[2])\n",
    "\n",
    "Z_Mod = evaluation.z_modularity(ScNet_dir, ScMarkov)\n",
    "print(\"Markov Z-Modularity:\", Z_Mod[2])\n",
    "\n",
    "Link_Mod = evaluation.link_modularity(ScNet_dir, ScMarkov)\n",
    "print(\"Markov Link Modularity:\", Link_Mod[2])\n",
    "\n",
    "significance = evaluation.significance(ScNet_dir, ScMarkov)\n",
    "print(\"Markov Significance:\", significance[2])"
   ]
  },
  {
   "cell_type": "markdown",
   "id": "bfff6c87",
   "metadata": {},
   "source": [
    "## Walktrap "
   ]
  },
  {
   "cell_type": "code",
   "execution_count": 29,
   "id": "fa8510bb",
   "metadata": {},
   "outputs": [
    {
     "name": "stdout",
     "output_type": "stream",
     "text": [
      "Execution time for Walktrap in Sc net: 13.577 seconds\n"
     ]
    }
   ],
   "source": [
    "start_time = time.time()\n",
    "ScWalktrap = algorithms.walktrap(ScNet_dir)\n",
    "t = time.time() - start_time\n",
    "print(\"Execution time for Walktrap in Sc net: %.6s seconds\" % (t))"
   ]
  },
  {
   "cell_type": "code",
   "execution_count": 31,
   "id": "cbce9199",
   "metadata": {},
   "outputs": [
    {
     "name": "stdout",
     "output_type": "stream",
     "text": [
      "Walktrap Number of communities: 3\n",
      "Walktrap Average Community Size: 2295.3333333333335\n",
      "Walktrap Average Internal Degree: 19.381962607769058\n",
      "\n",
      "Walktrap Newman-Girvan Modularity: -0.49959846211102704\n",
      "Walktrap Erdos-Renyi Modularity: 0.0011409372863773802\n",
      "Walktrap Z-Modularity: 0.0031984594792645537\n",
      "Walktrap Link Modularity: 0.07225992660613174\n",
      "Walktrap Significance: 1114082.9965531328\n"
     ]
    }
   ],
   "source": [
    "coms = list(ScWalktrap.to_node_community_map().values())[-1][0]+1\n",
    "print(\"Walktrap Number of communities:\", coms)\n",
    "\n",
    "ACS = evaluation.size(ScNet_dir, ScWalktrap)\n",
    "print(\"Walktrap Average Community Size:\", ACS[2])\n",
    "\n",
    "AID = evaluation.average_internal_degree(ScNet_dir, ScWalktrap)\n",
    "print(\"Walktrap Average Internal Degree:\", AID[2])\n",
    "\n",
    "print()\n",
    "\n",
    "NG_Mod = evaluation.newman_girvan_modularity(ScNet_dir, ScWalktrap)\n",
    "print(\"Walktrap Newman-Girvan Modularity:\", NG_Mod[2])\n",
    "\n",
    "ER_Mod = evaluation.erdos_renyi_modularity(ScNet_dir, ScWalktrap)\n",
    "print(\"Walktrap Erdos-Renyi Modularity:\", ER_Mod[2])\n",
    "\n",
    "Z_Mod = evaluation.z_modularity(ScNet_dir, ScWalktrap)\n",
    "print(\"Walktrap Z-Modularity:\", Z_Mod[2])\n",
    "\n",
    "Link_Mod = evaluation.link_modularity(ScNet_dir, ScWalktrap)\n",
    "print(\"Walktrap Link Modularity:\", Link_Mod[2])\n",
    "\n",
    "significance = evaluation.significance(ScNet_dir, ScWalktrap)\n",
    "print(\"Walktrap Significance:\", significance[2])"
   ]
  },
  {
   "cell_type": "markdown",
   "id": "0a2427b2",
   "metadata": {},
   "source": [
    "## Label "
   ]
  },
  {
   "cell_type": "code",
   "execution_count": 33,
   "id": "0131b1cd",
   "metadata": {},
   "outputs": [
    {
     "name": "stdout",
     "output_type": "stream",
     "text": [
      "Execution time for Label in Sc net: 0.3061 seconds\n"
     ]
    }
   ],
   "source": [
    "start_time = time.time()\n",
    "ScLabel = algorithms.label_propagation(ScNet_und)\n",
    "t = time.time() - start_time\n",
    "print(\"Execution time for Label in Sc net: %.6s seconds\" % (t))"
   ]
  },
  {
   "cell_type": "code",
   "execution_count": 34,
   "id": "83b7460a",
   "metadata": {},
   "outputs": [
    {
     "name": "stdout",
     "output_type": "stream",
     "text": [
      "Label Number of communities: 2\n",
      "Label Average Community Size: 3443.0\n",
      "Label Average Internal Degree: 28.976996464719843\n",
      "\n",
      "Label Newman-Girvan Modularity: 2.0526386328540833e-05\n",
      "Label Erdos-Renyi Modularity: 0.0008556847554819966\n",
      "Label Z-Modularity: 0.0034248542970981956\n",
      "Label Link Modularity: 0.14387361057388298\n",
      "Label Significance: 1109160.591505774\n"
     ]
    }
   ],
   "source": [
    "coms = list(ScLabel.to_node_community_map().values())[-1][0]+1\n",
    "print(\"Label Number of communities:\", coms)\n",
    "\n",
    "ACS = evaluation.size(ScNet_und, ScLabel)\n",
    "print(\"Label Average Community Size:\", ACS[2])\n",
    "\n",
    "AID = evaluation.average_internal_degree(ScNet_und, ScLabel)\n",
    "print(\"Label Average Internal Degree:\", AID[2])\n",
    "\n",
    "print()\n",
    "\n",
    "NG_Mod = evaluation.newman_girvan_modularity(ScNet_und, ScLabel)\n",
    "print(\"Label Newman-Girvan Modularity:\", NG_Mod[2])\n",
    "\n",
    "ER_Mod = evaluation.erdos_renyi_modularity(ScNet_und, ScLabel)\n",
    "print(\"Label Erdos-Renyi Modularity:\", ER_Mod[2])\n",
    "\n",
    "Z_Mod = evaluation.z_modularity(ScNet_und, ScLabel)\n",
    "print(\"Label Z-Modularity:\", Z_Mod[2])\n",
    "\n",
    "Link_Mod = evaluation.link_modularity(ScNet_und, ScLabel)\n",
    "print(\"Label Link Modularity:\", Link_Mod[2])\n",
    "\n",
    "significance = evaluation.significance(ScNet_und, ScLabel)\n",
    "print(\"Label Significance:\", significance[2])"
   ]
  },
  {
   "cell_type": "markdown",
   "id": "c0fda18a",
   "metadata": {},
   "source": [
    "## Infomap"
   ]
  },
  {
   "cell_type": "code",
   "execution_count": 35,
   "id": "e61850da",
   "metadata": {},
   "outputs": [],
   "source": [
    "def infomap(graph):\n",
    "    infomapWrapper = Infomap(\"--two-level --silent\")\n",
    "    for e in graph.edges():\n",
    "        infomapWrapper.addLink(int(e[0]), int(e[1]))\n",
    "    infomapWrapper.run();\n",
    "    communities = [[]] * infomapWrapper.num_top_modules\n",
    "    for node in infomapWrapper.tree:\n",
    "        if node.is_leaf:\n",
    "            if communities[node.module_id-1]:\n",
    "                communities[node.module_id-1].append(node.node_id)\n",
    "            else:\n",
    "                communities[node.module_id-1] = [node.node_id]\n",
    "    return NodeClustering(communities, graph, method_name=\"infomap\")"
   ]
  },
  {
   "cell_type": "code",
   "execution_count": 36,
   "id": "23aabc78",
   "metadata": {},
   "outputs": [
    {
     "name": "stdout",
     "output_type": "stream",
     "text": [
      "Execution time for Infomap in Sc net: 0.5387 seconds\n"
     ]
    }
   ],
   "source": [
    "start_time = time.time()\n",
    "ScInfomap = infomap(ScNet_dir_int)\n",
    "t = time.time() - start_time\n",
    "print(\"Execution time for Infomap in Sc net: %.6s seconds\" % (t))"
   ]
  },
  {
   "cell_type": "code",
   "execution_count": 38,
   "id": "1dbc6780",
   "metadata": {},
   "outputs": [
    {
     "name": "stdout",
     "output_type": "stream",
     "text": [
      "Infomap Number of communities: 2\n",
      "Infomap Average Community Size: 3443.0\n",
      "Infomap Average Internal Degree: 29.068962177345153\n",
      "\n",
      "Infomap Newman-Girvan Modularity: -0.49960101957728964\n",
      "Infomap Erdos-Renyi Modularity: 0.0008557346036043175\n",
      "Infomap Z-Modularity: 0.0034193052095175154\n",
      "Infomap Link Modularity: 0.07226029658154355\n",
      "Infomap Significance: 1114032.7199857696\n"
     ]
    }
   ],
   "source": [
    "coms = list(ScInfomap.to_node_community_map().values())[-1][0]+1\n",
    "print(\"Infomap Number of communities:\", coms)\n",
    "\n",
    "ACS = evaluation.size(ScNet_dir_int, ScInfomap)\n",
    "print(\"Infomap Average Community Size:\", ACS[2])\n",
    "\n",
    "AID = evaluation.average_internal_degree(ScNet_dir_int, ScInfomap)\n",
    "print(\"Infomap Average Internal Degree:\", AID[2])\n",
    "\n",
    "print()\n",
    "\n",
    "NG_Mod = evaluation.newman_girvan_modularity(ScNet_dir_int, ScInfomap)\n",
    "print(\"Infomap Newman-Girvan Modularity:\", NG_Mod[2])\n",
    "\n",
    "ER_Mod = evaluation.erdos_renyi_modularity(ScNet_dir_int, ScInfomap)\n",
    "print(\"Infomap Erdos-Renyi Modularity:\", ER_Mod[2])\n",
    "\n",
    "Z_Mod = evaluation.z_modularity(ScNet_dir_int, ScInfomap)\n",
    "print(\"Infomap Z-Modularity:\", Z_Mod[2])\n",
    "\n",
    "Link_Mod = evaluation.link_modularity(ScNet_dir_int, ScInfomap)\n",
    "print(\"Infomap Link Modularity:\", Link_Mod[2])\n",
    "\n",
    "significance = evaluation.significance(ScNet_dir_int, ScInfomap)\n",
    "print(\"Infomap Significance:\", significance[2])"
   ]
  },
  {
   "cell_type": "markdown",
   "id": "0b048db6",
   "metadata": {},
   "source": [
    "## Walkscan "
   ]
  },
  {
   "cell_type": "code",
   "execution_count": 49,
   "id": "fb263576",
   "metadata": {},
   "outputs": [
    {
     "name": "stdout",
     "output_type": "stream",
     "text": [
      "Execution time for Walkscan in Sc net: 1.1457 seconds\n"
     ]
    }
   ],
   "source": [
    "start_time = time.time()\n",
    "ScWalkscan = algorithms.walkscan(ScNet_und)\n",
    "t = time.time() - start_time\n",
    "print(\"Execution time for Walkscan in Sc net: %.6s seconds\" % (t))"
   ]
  },
  {
   "cell_type": "code",
   "execution_count": 52,
   "id": "999b0242",
   "metadata": {},
   "outputs": [
    {
     "name": "stdout",
     "output_type": "stream",
     "text": [
      "Walkscan Number of communities: 1\n",
      "Walkscan Average Community Size: 6841.0\n",
      "Walkscan Average Internal Degree: 56.953954100277734\n",
      "\n",
      "Walkscan Newman-Girvan Modularity: -0.03063404933311864\n",
      "Walkscan Erdos-Renyi Modularity: 0.012751118925669625\n",
      "Walkscan Z-Modularity: 0.0006043277577787181\n",
      "Walkscan Link Modularity: 0.1438359385034575\n",
      "Walkscan Significance: 1111203.3771947962\n"
     ]
    }
   ],
   "source": [
    "coms = list(ScWalkscan.to_node_community_map().values())[-1][0]+1\n",
    "print(\"Walkscan Number of communities:\", coms)\n",
    "\n",
    "ACS = evaluation.size(ScNet_und, ScWalkscan)\n",
    "print(\"Walkscan Average Community Size:\", ACS[2])\n",
    "\n",
    "AID = evaluation.average_internal_degree(ScNet_und, ScWalkscan)\n",
    "print(\"Walkscan Average Internal Degree:\", AID[2])\n",
    "\n",
    "print()\n",
    "\n",
    "NG_Mod = evaluation.newman_girvan_modularity(ScNet_und, ScWalkscan)\n",
    "print(\"Walkscan Newman-Girvan Modularity:\", NG_Mod[2])\n",
    "\n",
    "ER_Mod = evaluation.erdos_renyi_modularity(ScNet_und, ScWalkscan)\n",
    "print(\"Walkscan Erdos-Renyi Modularity:\", ER_Mod[2])\n",
    "\n",
    "Z_Mod = evaluation.z_modularity(ScNet_und, ScWalkscan)\n",
    "print(\"Walkscan Z-Modularity:\", Z_Mod[2])\n",
    "\n",
    "Link_Mod = evaluation.link_modularity(ScNet_und, ScWalkscan)\n",
    "print(\"Walkscan Link Modularity:\", Link_Mod[2])\n",
    "\n",
    "significance = evaluation.significance(ScNet_und, ScWalkscan)\n",
    "print(\"Walkscan Significance:\", significance[2])"
   ]
  },
  {
   "cell_type": "markdown",
   "id": "9498d217",
   "metadata": {},
   "source": [
    "## LPANNI "
   ]
  },
  {
   "cell_type": "code",
   "execution_count": 40,
   "id": "9ab6dc83",
   "metadata": {},
   "outputs": [
    {
     "ename": "KeyboardInterrupt",
     "evalue": "",
     "output_type": "error",
     "traceback": [
      "\u001b[1;31m---------------------------------------------------------------------------\u001b[0m",
      "\u001b[1;31mKeyboardInterrupt\u001b[0m                         Traceback (most recent call last)",
      "\u001b[1;32m~\\AppData\\Local\\Temp\\ipykernel_7552\\1182133127.py\u001b[0m in \u001b[0;36m<module>\u001b[1;34m\u001b[0m\n\u001b[0;32m      1\u001b[0m \u001b[0mstart_time\u001b[0m \u001b[1;33m=\u001b[0m \u001b[0mtime\u001b[0m\u001b[1;33m.\u001b[0m\u001b[0mtime\u001b[0m\u001b[1;33m(\u001b[0m\u001b[1;33m)\u001b[0m\u001b[1;33m\u001b[0m\u001b[1;33m\u001b[0m\u001b[0m\n\u001b[1;32m----> 2\u001b[1;33m \u001b[0mScLpanni\u001b[0m \u001b[1;33m=\u001b[0m \u001b[0malgorithms\u001b[0m\u001b[1;33m.\u001b[0m\u001b[0mlpanni\u001b[0m\u001b[1;33m(\u001b[0m\u001b[0mScNet_dir\u001b[0m\u001b[1;33m)\u001b[0m\u001b[1;33m\u001b[0m\u001b[1;33m\u001b[0m\u001b[0m\n\u001b[0m\u001b[0;32m      3\u001b[0m \u001b[0mt\u001b[0m \u001b[1;33m=\u001b[0m \u001b[0mtime\u001b[0m\u001b[1;33m.\u001b[0m\u001b[0mtime\u001b[0m\u001b[1;33m(\u001b[0m\u001b[1;33m)\u001b[0m \u001b[1;33m-\u001b[0m \u001b[0mstart_time\u001b[0m\u001b[1;33m\u001b[0m\u001b[1;33m\u001b[0m\u001b[0m\n\u001b[0;32m      4\u001b[0m \u001b[0mprint\u001b[0m\u001b[1;33m(\u001b[0m\u001b[1;34m\"Execution time for LPANNI in Sc net: %.6s seconds\"\u001b[0m \u001b[1;33m%\u001b[0m \u001b[1;33m(\u001b[0m\u001b[0mt\u001b[0m\u001b[1;33m)\u001b[0m\u001b[1;33m)\u001b[0m\u001b[1;33m\u001b[0m\u001b[1;33m\u001b[0m\u001b[0m\n",
      "\u001b[1;32m~\\anaconda3\\lib\\site-packages\\cdlib\\algorithms\\overlapping_partition.py\u001b[0m in \u001b[0;36mlpanni\u001b[1;34m(g_original, threshold)\u001b[0m\n\u001b[0;32m   1432\u001b[0m     \"\"\"\n\u001b[0;32m   1433\u001b[0m     \u001b[0mg\u001b[0m \u001b[1;33m=\u001b[0m \u001b[0mconvert_graph_formats\u001b[0m\u001b[1;33m(\u001b[0m\u001b[0mg_original\u001b[0m\u001b[1;33m,\u001b[0m \u001b[0mnx\u001b[0m\u001b[1;33m.\u001b[0m\u001b[0mGraph\u001b[0m\u001b[1;33m)\u001b[0m\u001b[1;33m\u001b[0m\u001b[1;33m\u001b[0m\u001b[0m\n\u001b[1;32m-> 1434\u001b[1;33m     \u001b[0mLPANNI\u001b[0m\u001b[1;33m(\u001b[0m\u001b[0mg\u001b[0m\u001b[1;33m)\u001b[0m\u001b[1;33m\u001b[0m\u001b[1;33m\u001b[0m\u001b[0m\n\u001b[0m\u001b[0;32m   1435\u001b[0m     \u001b[0mgen\u001b[0m \u001b[1;33m=\u001b[0m \u001b[0mGraphGenerator\u001b[0m\u001b[1;33m(\u001b[0m\u001b[0mthreshold\u001b[0m\u001b[1;33m,\u001b[0m \u001b[0mg\u001b[0m\u001b[1;33m)\u001b[0m\u001b[1;33m\u001b[0m\u001b[1;33m\u001b[0m\u001b[0m\n\u001b[0;32m   1436\u001b[0m     \u001b[0mcommunities\u001b[0m \u001b[1;33m=\u001b[0m \u001b[1;33m[\u001b[0m\u001b[0mlist\u001b[0m\u001b[1;33m(\u001b[0m\u001b[0mc\u001b[0m\u001b[1;33m)\u001b[0m \u001b[1;32mfor\u001b[0m \u001b[0mc\u001b[0m \u001b[1;32min\u001b[0m \u001b[0mgen\u001b[0m\u001b[1;33m.\u001b[0m\u001b[0mget_Overlapping_communities\u001b[0m\u001b[1;33m(\u001b[0m\u001b[1;33m)\u001b[0m\u001b[1;33m]\u001b[0m\u001b[1;33m\u001b[0m\u001b[1;33m\u001b[0m\u001b[0m\n",
      "\u001b[1;32m~\\anaconda3\\lib\\site-packages\\cdlib\\algorithms\\internal\\LPANNI.py\u001b[0m in \u001b[0;36mLPANNI\u001b[1;34m(g)\u001b[0m\n\u001b[0;32m    100\u001b[0m     \"\"\"\n\u001b[0;32m    101\u001b[0m     \u001b[0mcompute_NI\u001b[0m\u001b[1;33m(\u001b[0m\u001b[0mg\u001b[0m\u001b[1;33m)\u001b[0m\u001b[1;33m\u001b[0m\u001b[1;33m\u001b[0m\u001b[0m\n\u001b[1;32m--> 102\u001b[1;33m     \u001b[0mcompute_sim\u001b[0m\u001b[1;33m(\u001b[0m\u001b[0mg\u001b[0m\u001b[1;33m)\u001b[0m\u001b[1;33m\u001b[0m\u001b[1;33m\u001b[0m\u001b[0m\n\u001b[0m\u001b[0;32m    103\u001b[0m     \u001b[0mcompute_NNI\u001b[0m\u001b[1;33m(\u001b[0m\u001b[0mg\u001b[0m\u001b[1;33m)\u001b[0m\u001b[1;33m\u001b[0m\u001b[1;33m\u001b[0m\u001b[0m\n\u001b[0;32m    104\u001b[0m \u001b[1;33m\u001b[0m\u001b[0m\n",
      "\u001b[1;32m~\\anaconda3\\lib\\site-packages\\cdlib\\algorithms\\internal\\LPANNI.py\u001b[0m in \u001b[0;36mcompute_sim\u001b[1;34m(g)\u001b[0m\n\u001b[0;32m     55\u001b[0m         \u001b[1;32mfor\u001b[0m \u001b[0mi\u001b[0m \u001b[1;32min\u001b[0m \u001b[0mlist\u001b[0m\u001b[1;33m(\u001b[0m\u001b[0mg\u001b[0m\u001b[1;33m.\u001b[0m\u001b[0madj\u001b[0m\u001b[1;33m[\u001b[0m\u001b[0mu\u001b[0m\u001b[1;33m]\u001b[0m\u001b[1;33m.\u001b[0m\u001b[0mkeys\u001b[0m\u001b[1;33m(\u001b[0m\u001b[1;33m)\u001b[0m\u001b[1;33m)\u001b[0m\u001b[1;33m:\u001b[0m\u001b[1;33m\u001b[0m\u001b[1;33m\u001b[0m\u001b[0m\n\u001b[0;32m     56\u001b[0m             \u001b[1;32mfor\u001b[0m \u001b[0mj\u001b[0m \u001b[1;32min\u001b[0m \u001b[0mlist\u001b[0m\u001b[1;33m(\u001b[0m\u001b[0mg\u001b[0m\u001b[1;33m.\u001b[0m\u001b[0madj\u001b[0m\u001b[1;33m[\u001b[0m\u001b[0mi\u001b[0m\u001b[1;33m]\u001b[0m\u001b[1;33m.\u001b[0m\u001b[0mkeys\u001b[0m\u001b[1;33m(\u001b[0m\u001b[1;33m)\u001b[0m\u001b[1;33m)\u001b[0m\u001b[1;33m:\u001b[0m\u001b[1;33m\u001b[0m\u001b[1;33m\u001b[0m\u001b[0m\n\u001b[1;32m---> 57\u001b[1;33m                 \u001b[1;32mif\u001b[0m \u001b[0mg\u001b[0m\u001b[1;33m.\u001b[0m\u001b[0mhas_edge\u001b[0m\u001b[1;33m(\u001b[0m\u001b[0mj\u001b[0m\u001b[1;33m,\u001b[0m \u001b[0mv\u001b[0m\u001b[1;33m)\u001b[0m \u001b[1;32mand\u001b[0m \u001b[1;33m(\u001b[0m\u001b[1;32mnot\u001b[0m \u001b[0mj\u001b[0m \u001b[1;33m==\u001b[0m \u001b[0mu\u001b[0m\u001b[1;33m)\u001b[0m\u001b[1;33m:\u001b[0m\u001b[1;33m\u001b[0m\u001b[1;33m\u001b[0m\u001b[0m\n\u001b[0m\u001b[0;32m     58\u001b[0m                     \u001b[0ms\u001b[0m \u001b[1;33m+=\u001b[0m \u001b[1;36m1\u001b[0m \u001b[1;33m/\u001b[0m \u001b[1;36m3\u001b[0m\u001b[1;33m\u001b[0m\u001b[1;33m\u001b[0m\u001b[0m\n\u001b[0;32m     59\u001b[0m         \u001b[1;32mfor\u001b[0m \u001b[0mi\u001b[0m \u001b[1;32min\u001b[0m \u001b[1;33m(\u001b[0m\u001b[0mu\u001b[0m\u001b[1;33m,\u001b[0m \u001b[0mv\u001b[0m\u001b[1;33m)\u001b[0m\u001b[1;33m:\u001b[0m\u001b[1;33m\u001b[0m\u001b[1;33m\u001b[0m\u001b[0m\n",
      "\u001b[1;32m~\\anaconda3\\lib\\site-packages\\networkx\\classes\\graph.py\u001b[0m in \u001b[0;36mhas_edge\u001b[1;34m(self, u, v)\u001b[0m\n\u001b[0;32m   1208\u001b[0m         \"\"\"\n\u001b[0;32m   1209\u001b[0m         \u001b[1;32mtry\u001b[0m\u001b[1;33m:\u001b[0m\u001b[1;33m\u001b[0m\u001b[1;33m\u001b[0m\u001b[0m\n\u001b[1;32m-> 1210\u001b[1;33m             \u001b[1;32mreturn\u001b[0m \u001b[0mv\u001b[0m \u001b[1;32min\u001b[0m \u001b[0mself\u001b[0m\u001b[1;33m.\u001b[0m\u001b[0m_adj\u001b[0m\u001b[1;33m[\u001b[0m\u001b[0mu\u001b[0m\u001b[1;33m]\u001b[0m\u001b[1;33m\u001b[0m\u001b[1;33m\u001b[0m\u001b[0m\n\u001b[0m\u001b[0;32m   1211\u001b[0m         \u001b[1;32mexcept\u001b[0m \u001b[0mKeyError\u001b[0m\u001b[1;33m:\u001b[0m\u001b[1;33m\u001b[0m\u001b[1;33m\u001b[0m\u001b[0m\n\u001b[0;32m   1212\u001b[0m             \u001b[1;32mreturn\u001b[0m \u001b[1;32mFalse\u001b[0m\u001b[1;33m\u001b[0m\u001b[1;33m\u001b[0m\u001b[0m\n",
      "\u001b[1;31mKeyboardInterrupt\u001b[0m: "
     ]
    }
   ],
   "source": [
    "start_time = time.time()\n",
    "ScLpanni = algorithms.lpanni(ScNet_dir)\n",
    "t = time.time() - start_time\n",
    "print(\"Execution time for LPANNI in Sc net: %.6s seconds\" % (t))"
   ]
  },
  {
   "cell_type": "markdown",
   "id": "99320fb4",
   "metadata": {},
   "source": [
    "## Link Clustering"
   ]
  },
  {
   "cell_type": "code",
   "execution_count": null,
   "id": "c13cfd9f",
   "metadata": {},
   "outputs": [],
   "source": [
    "start_time = time.time()\n",
    "ScLink = algorithms.hierarchical_link_community(ScNet_dir)\n",
    "t = time.time() - start_time\n",
    "print(\"Execution time for Link Clustering in Sc net: %.6s seconds\" % (t))"
   ]
  }
 ],
 "metadata": {
  "kernelspec": {
   "display_name": "Python 3 (ipykernel)",
   "language": "python",
   "name": "python3"
  },
  "language_info": {
   "codemirror_mode": {
    "name": "ipython",
    "version": 3
   },
   "file_extension": ".py",
   "mimetype": "text/x-python",
   "name": "python",
   "nbconvert_exporter": "python",
   "pygments_lexer": "ipython3",
   "version": "3.9.10"
  }
 },
 "nbformat": 4,
 "nbformat_minor": 5
}
