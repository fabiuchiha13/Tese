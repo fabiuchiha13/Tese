{
 "cells": [
  {
   "cell_type": "code",
   "execution_count": 1,
   "id": "7f5d0c6d",
   "metadata": {},
   "outputs": [],
   "source": [
    "import networkx as nx\n",
    "import pandas as pd\n",
    "import numpy as np\n",
    "from cdlib import algorithms, readwrite, evaluation, NodeClustering\n",
    "from cdlib.benchmark import LFR, SBM\n",
    "import matplotlib.pyplot as plt\n",
    "import time\n",
    "from infomap import Infomap"
   ]
  },
  {
   "cell_type": "code",
   "execution_count": 2,
   "id": "fd87592a",
   "metadata": {},
   "outputs": [],
   "source": [
    "def averageDegree(graph):\n",
    "    degrees = [val for (node, val) in graph.degree()]\n",
    "    sum = 0\n",
    "    for d in degrees:\n",
    "        sum += d\n",
    "    return sum/len(degrees)"
   ]
  },
  {
   "cell_type": "code",
   "execution_count": 3,
   "id": "f7b9e7c3",
   "metadata": {},
   "outputs": [],
   "source": [
    "def APL(graph):\n",
    "    for C in (graph.subgraph(c) for c in nx.connected_components(graph)):\n",
    "        return nx.average_shortest_path_length(C)"
   ]
  },
  {
   "cell_type": "code",
   "execution_count": 4,
   "id": "01ca9bc1",
   "metadata": {},
   "outputs": [],
   "source": [
    "def networkInfo(graph):\n",
    "    print(\"Average degree:\", averageDegree(graph))\n",
    "    print(\"Clustering coefficient:\", nx.average_clustering(graph))\n",
    "    print(\"Average Path Length (highest value):\", APL(graph))"
   ]
  },
  {
   "cell_type": "markdown",
   "id": "9ca10da1",
   "metadata": {},
   "source": [
    "## LFR "
   ]
  },
  {
   "cell_type": "code",
   "execution_count": 8,
   "id": "2f216b68",
   "metadata": {},
   "outputs": [],
   "source": [
    "n = 250\n",
    "tau1 = 3\n",
    "tau2 = 1.5\n",
    "lfrGraph, lfrComs = LFR(n, tau1, tau2, 0.1, average_degree=5, min_community=20)"
   ]
  },
  {
   "cell_type": "markdown",
   "id": "fdf651aa",
   "metadata": {},
   "source": [
    "## Modularity optimization methods "
   ]
  },
  {
   "cell_type": "code",
   "execution_count": 35,
   "id": "05facec6",
   "metadata": {},
   "outputs": [
    {
     "name": "stdout",
     "output_type": "stream",
     "text": [
      "Average degree: 4.082\n",
      "Clustering coefficient: 0.1954855825750453\n",
      "Average Path Length (highest value): 7.899159680722807\n",
      "\n",
      "Running greedy...\n",
      "Running louvain...\n",
      "Running leiden...\n",
      "Running paris...\n",
      "Running edmot...\n",
      "\n",
      "Average degree: 4.13\n",
      "Clustering coefficient: 0.11427353611186772\n",
      "Average Path Length (highest value): 5.67988190978702\n",
      "\n",
      "Running greedy...\n",
      "Running louvain...\n",
      "Running leiden...\n",
      "Running paris...\n",
      "Running edmot...\n",
      "\n",
      "Average degree: 4.08\n",
      "Clustering coefficient: 0.039155606870122435\n",
      "Average Path Length (highest value): 5.182148856207176\n",
      "\n",
      "Running greedy...\n",
      "Running louvain...\n",
      "Running leiden...\n",
      "Running paris...\n",
      "Running edmot...\n",
      "\n",
      "Average degree: 4.132\n",
      "Clustering coefficient: 0.024769980629261876\n",
      "Average Path Length (highest value): 4.979590072823681\n",
      "\n",
      "Running greedy...\n",
      "Running louvain...\n",
      "Running leiden...\n",
      "Running paris...\n",
      "Running edmot...\n",
      "\n",
      "Average degree: 4.146\n",
      "Clustering coefficient: 0.01375431483085944\n",
      "Average Path Length (highest value): 4.905411625658539\n",
      "\n",
      "Running greedy...\n",
      "Running louvain...\n",
      "Running leiden...\n",
      "Running paris...\n",
      "Running edmot...\n",
      "\n",
      "Average degree: 4.106\n",
      "Clustering coefficient: 0.007186059561156175\n",
      "Average Path Length (highest value): 4.846803462596625\n",
      "\n",
      "Running greedy...\n",
      "Running louvain...\n",
      "Running leiden...\n",
      "Running paris...\n",
      "Running edmot...\n",
      "\n",
      "Average degree: 4.136\n",
      "Clustering coefficient: 0.008095298737022872\n",
      "Average Path Length (highest value): 4.8092940908943245\n",
      "\n",
      "Running greedy...\n",
      "Running louvain...\n",
      "Running leiden...\n",
      "Running paris...\n",
      "Running edmot...\n",
      "\n"
     ]
    }
   ],
   "source": [
    "def modularityMethods_performance(nNodes):\n",
    "    tau1 = 3\n",
    "    tau2 = 1.5\n",
    "    mus = np.array([0.1, 0.2, 0.3, 0.4, 0.5, 0.6, 0.7])\n",
    "\n",
    "    resultsGreedyNMI = []\n",
    "    #resultsGeneticNMI = []\n",
    "    resultsLouvainNMI = []\n",
    "    resultsLeidenNMI = []\n",
    "    resultsParisNMI = []\n",
    "    resultsEdmotNMI = []\n",
    "\n",
    "    resultsGreedyARI = []\n",
    "    #resultsGeneticARI = []\n",
    "    resultsLouvainARI = []\n",
    "    resultsLeidenARI = []\n",
    "    resultsParisARI = []\n",
    "    resultsEdmotARI = []\n",
    "\n",
    "    resultsGreedyNF1 = []\n",
    "    #resultsGeneticNF1 = []\n",
    "    resultsLouvainNF1 = []\n",
    "    resultsLeidenNF1 = []\n",
    "    resultsParisNF1 = []\n",
    "    resultsEdmotNF1 = []\n",
    "\n",
    "    for mu in mus:\n",
    "        lfrGraph, comsLFR = LFR(nNodes, tau1, tau2, mu, average_degree=5, min_community=20)\n",
    "        networkInfo(lfrGraph)\n",
    "        print()\n",
    "        \n",
    "        print(\"Running greedy...\")\n",
    "        greedy = algorithms.greedy_modularity(lfrGraph)\n",
    "        #print(\"Running genetic...\")\n",
    "        #genetic = algorithms.ga(lfrGraph)\n",
    "        print(\"Running louvain...\")\n",
    "        louvain = algorithms.louvain(lfrGraph)\n",
    "        print(\"Running leiden...\")\n",
    "        leiden = algorithms.leiden(lfrGraph)\n",
    "        print(\"Running paris...\")\n",
    "        paris = algorithms.paris(lfrGraph)\n",
    "        print(\"Running edmot...\")\n",
    "        edmot = algorithms.edmot(lfrGraph)\n",
    "\n",
    "        nmi1 = evaluation.normalized_mutual_information(comsLFR, greedy)\n",
    "        resultsGreedyNMI.append(nmi1[0])\n",
    "        #nmi2 = evaluation.normalized_mutual_information(comsLFR, genetic)\n",
    "        #resultsGeneticNMI.append(nmi2[0])\n",
    "        nmi3 = evaluation.normalized_mutual_information(comsLFR, louvain)\n",
    "        resultsLouvainNMI.append(nmi3[0])\n",
    "        nmi4 = evaluation.normalized_mutual_information(comsLFR, leiden)\n",
    "        resultsLeidenNMI.append(nmi4[0])\n",
    "        nmi5 = evaluation.normalized_mutual_information(comsLFR, paris)\n",
    "        resultsParisNMI.append(nmi5[0])\n",
    "        nmi6 = evaluation.normalized_mutual_information(comsLFR, edmot)\n",
    "        resultsEdmotNMI.append(nmi6[0])\n",
    "\n",
    "        ari1 = evaluation.adjusted_rand_index(comsLFR, greedy)\n",
    "        resultsGreedyARI.append(ari1[0])\n",
    "        #ari2 = evaluation.adjusted_rand_index(comsLFR, genetic)\n",
    "        #resultsGeneticARI.append(ari2[0])\n",
    "        ari3 = evaluation.adjusted_rand_index(comsLFR, louvain)\n",
    "        resultsLouvainARI.append(ari3[0])\n",
    "        ari4 = evaluation.adjusted_rand_index(comsLFR, leiden)\n",
    "        resultsLeidenARI.append(ari4[0])\n",
    "        ari5 = evaluation.adjusted_rand_index(comsLFR, paris)\n",
    "        resultsParisARI.append(ari5[0])\n",
    "        ari6 = evaluation.adjusted_rand_index(comsLFR, edmot)\n",
    "        resultsEdmotARI.append(ari6[0])\n",
    "\n",
    "        nf11 = evaluation.nf1(comsLFR, greedy)\n",
    "        resultsGreedyNF1.append(nf11[0])\n",
    "        #nf12 = evaluation.nf1(comsLFR, genetic)\n",
    "        #resultsGeneticNF1.append(nf12[0])\n",
    "        nf13 = evaluation.nf1(comsLFR, louvain)\n",
    "        resultsLouvainNF1.append(nf13[0])\n",
    "        nf14 = evaluation.nf1(comsLFR, leiden)\n",
    "        resultsLeidenNF1.append(nf14[0])\n",
    "        nf15 = evaluation.nf1(comsLFR, paris)\n",
    "        resultsParisNF1.append(nf15[0])\n",
    "        nf16 = evaluation.nf1(comsLFR, edmot)\n",
    "        resultsEdmotNF1.append(nf16[0])\n",
    "\n",
    "        print()\n",
    "        \n",
    "    fig = plt.figure(figsize=(3*1.61803398875, 3))\n",
    "    ax = plt.axes((0.2, 0.2, 0.70, 0.70), facecolor='w')\n",
    "\n",
    "    ax.plot(mus,resultsGreedyNMI, \"-bo\", label = \"Greedy\")\n",
    "    #ax.plot(mus,resultsGeneticNMI, \"-yo\", label = \"Genetic\")\n",
    "    ax.plot(mus,resultsLouvainNMI, \"-ro\", label = \"Louvain\")\n",
    "    ax.plot(mus,resultsLeidenNMI, \"-go\", label = \"Leiden\")\n",
    "    ax.plot(mus,resultsParisNMI, \"-co\", label = \"Paris\")\n",
    "    ax.plot(mus,resultsEdmotNMI, \"-mo\", label = \"Edmot\")\n",
    "\n",
    "\n",
    "    ax.set_xlabel(chr(945+11))\n",
    "    ax.set_ylabel(\"Performance\")\n",
    "    ax.set_title(\"NMI Accuracy - %d nodes\" % (nNodes))\n",
    "    ax.legend()\n",
    "    fig.savefig(\"Images/LFR_%d_NMI.png\" % (nNodes))\n",
    "    plt.close(fig)\n",
    "    \n",
    "    fig = plt.figure(figsize=(3*1.61803398875, 3))\n",
    "    ax = plt.axes((0.2, 0.2, 0.70, 0.70), facecolor='w')\n",
    "\n",
    "    ax.plot(mus,resultsGreedyARI, \"-bo\", label = \"Greedy\")\n",
    "    #ax.plot(mus,resultsGeneticARI, \"-yo\", label = \"Genetic\")\n",
    "    ax.plot(mus,resultsLouvainARI, \"-ro\", label = \"Louvain\")\n",
    "    ax.plot(mus,resultsLeidenARI, \"-go\", label = \"Leiden\")\n",
    "    ax.plot(mus,resultsParisARI, \"-co\", label = \"Paris\")\n",
    "    ax.plot(mus,resultsEdmotARI, \"-mo\", label = \"Edmot\")\n",
    "\n",
    "\n",
    "    ax.set_xlabel(chr(945+11))\n",
    "    ax.set_ylabel(\"Performance\")\n",
    "    ax.set_title(\"ARI Accuracy - %d nodes\" % (nNodes))\n",
    "    ax.legend()\n",
    "    fig.savefig(\"Images/LFR_%d_ARI.png\" % (nNodes))\n",
    "    plt.close(fig)\n",
    "    \n",
    "    fig = plt.figure(figsize=(3*1.61803398875, 3))\n",
    "    ax = plt.axes((0.2, 0.2, 0.70, 0.70), facecolor='w')\n",
    "\n",
    "    ax.plot(mus,resultsGreedyNF1, \"-bo\", label = \"Greedy\")\n",
    "    #ax.plot(mus,resultsGeneticNF1, \"-yo\", label = \"Genetic\")\n",
    "    ax.plot(mus,resultsLouvainNF1, \"-ro\", label = \"Louvain\")\n",
    "    ax.plot(mus,resultsLeidenNF1, \"-go\", label = \"Leiden\")\n",
    "    ax.plot(mus,resultsParisNF1, \"-co\", label = \"Paris\")\n",
    "    ax.plot(mus,resultsEdmotNF1, \"-mo\", label = \"Edmot\")\n",
    "\n",
    "\n",
    "    ax.set_xlabel(chr(945+11))\n",
    "    ax.set_ylabel(\"Performance\")\n",
    "    ax.set_title(\"NF1 Accuracy - %d nodes\" % (nNodes))\n",
    "    ax.legend()\n",
    "    fig.savefig(\"Images/LFR_%d_NF1.png\" % (nNodes))\n",
    "    plt.close(fig)\n",
    "    \n",
    "modularityMethods_performance(1000)"
   ]
  },
  {
   "cell_type": "code",
   "execution_count": 53,
   "id": "aac129de",
   "metadata": {},
   "outputs": [
    {
     "name": "stdout",
     "output_type": "stream",
     "text": [
      "LFR with 250 nodes\n",
      "\n",
      "Running greedy...\n",
      "Greedy time: 0.05285835266113281\n",
      "\n",
      "Running louvain...\n",
      "Louvain time: 0.026928424835205078\n",
      "\n",
      "Running leiden...\n",
      "Leiden time: 0.002991199493408203\n",
      "\n",
      "Running paris...\n",
      "Paris time: 0.01595759391784668\n",
      "\n",
      "Running edmot...\n",
      "Edmot time: 0.031914710998535156\n",
      "\n",
      "Running girvan-newman...\n",
      "Girvan-Newman time: 4.066271543502808\n",
      "\n",
      "Running eigenvector...\n",
      "Eigenvector time: 0.03224992752075195\n",
      "\n",
      "Running markov...\n",
      "Markov time: 0.1556539535522461\n",
      "\n",
      "Running walktrap...\n",
      "Walktrap time: 0.003988027572631836\n",
      "\n",
      "Running label...\n",
      "Label time: 0.0029916763305664062\n",
      "\n",
      "Running surprise...\n",
      "Surprise time: 0.00413203239440918\n",
      "\n",
      "Running infomap...\n",
      "Infomap time: 0.0051021575927734375\n",
      "\n",
      "\n",
      "LFR with 500 nodes\n",
      "\n",
      "Running greedy...\n",
      "Greedy time: 0.11267471313476562\n",
      "\n",
      "Running louvain...\n",
      "Louvain time: 0.051859378814697266\n",
      "\n",
      "Running leiden...\n",
      "Leiden time: 0.006981611251831055\n",
      "\n",
      "Running paris...\n",
      "Paris time: 0.0329127311706543\n",
      "\n",
      "Running edmot...\n",
      "Edmot time: 0.06582355499267578\n",
      "\n",
      "Running girvan-newman...\n",
      "Girvan-Newman time: 26.52095365524292\n",
      "\n",
      "Running eigenvector...\n",
      "Eigenvector time: 0.09699058532714844\n",
      "\n",
      "Running markov...\n",
      "Markov time: 0.1406233310699463\n",
      "\n",
      "Running walktrap...\n",
      "Walktrap time: 0.011968374252319336\n",
      "\n",
      "Running label...\n",
      "Label time: 0.005984783172607422\n",
      "\n",
      "Running surprise...\n",
      "Surprise time: 0.007977724075317383\n",
      "\n",
      "Running infomap...\n",
      "Infomap time: 0.005984783172607422\n",
      "\n",
      "\n",
      "LFR with 1000 nodes\n",
      "\n",
      "Running greedy...\n",
      "Greedy time: 0.19068312644958496\n",
      "\n",
      "Running louvain...\n",
      "Louvain time: 0.16015291213989258\n",
      "\n",
      "Running leiden...\n",
      "Leiden time: 0.011967658996582031\n",
      "\n",
      "Running paris...\n",
      "Paris time: 0.06553483009338379\n",
      "\n",
      "Running edmot...\n",
      "Edmot time: 0.15908408164978027\n",
      "\n",
      "Running girvan-newman...\n",
      "Girvan-Newman time: 176.41795301437378\n",
      "\n",
      "Running eigenvector...\n",
      "Eigenvector time: 0.21912479400634766\n",
      "\n",
      "Running markov...\n",
      "Markov time: 0.24343419075012207\n",
      "\n",
      "Running walktrap...\n",
      "Walktrap time: 0.026929855346679688\n",
      "\n",
      "Running label...\n",
      "Label time: 0.01196599006652832\n",
      "\n",
      "Running surprise...\n",
      "Surprise time: 0.017992258071899414\n",
      "\n",
      "Running infomap...\n",
      "Infomap time: 0.012964487075805664\n",
      "\n",
      "\n"
     ]
    }
   ],
   "source": [
    "def modularityMethods_times():\n",
    "    nNodes = np.array([250, 500, 1000])\n",
    "    \n",
    "    for n in nNodes:\n",
    "        lfrGraph, comsLFR = LFR(n, 3, 1.5, 0.1, average_degree=5, min_community=20)\n",
    "        print(\"LFR with %d nodes\" % (n))\n",
    "        print()\n",
    "        \n",
    "        print(\"Running greedy...\")\n",
    "        start_time = time.time()\n",
    "        greedy = algorithms.greedy_modularity(lfrGraph)\n",
    "        print(\"Greedy time:\", time.time() - start_time)\n",
    "        print()\n",
    "        \n",
    "        #print(\"Running genetic...\")\n",
    "        #start_time = time.time()\n",
    "        #genetic = algorithms.ga(lfrGraph)\n",
    "        #print(\"Genetic time:\", time.time() - start_time)\n",
    "        #print()\n",
    "        \n",
    "        print(\"Running louvain...\")\n",
    "        start_time = time.time()\n",
    "        louvain = algorithms.louvain(lfrGraph)\n",
    "        print(\"Louvain time:\", time.time() - start_time)\n",
    "        print()\n",
    "        \n",
    "        print(\"Running leiden...\")\n",
    "        start_time = time.time()\n",
    "        leiden = algorithms.leiden(lfrGraph)\n",
    "        print(\"Leiden time:\", time.time() - start_time)\n",
    "        print()\n",
    "        \n",
    "        print(\"Running paris...\")\n",
    "        start_time = time.time()\n",
    "        paris = algorithms.paris(lfrGraph)\n",
    "        print(\"Paris time:\", time.time() - start_time)\n",
    "        print()\n",
    "        \n",
    "        print(\"Running edmot...\")\n",
    "        start_time = time.time()\n",
    "        edmot = algorithms.edmot(lfrGraph)\n",
    "        print(\"Edmot time:\", time.time() - start_time)\n",
    "        print()\n",
    "        \n",
    "        print(\"Running girvan-newman...\")\n",
    "        start_time = time.time()\n",
    "        gn = algorithms.girvan_newman(lfrGraph, level=7)\n",
    "        print(\"Girvan-Newman time:\", time.time() - start_time)\n",
    "        print()\n",
    "        \n",
    "        print(\"Running eigenvector...\")\n",
    "        start_time = time.time()\n",
    "        eigen = algorithms.eigenvector(lfrGraph)\n",
    "        print(\"Eigenvector time:\", time.time() - start_time)\n",
    "        print()\n",
    "        \n",
    "        print(\"Running markov...\")\n",
    "        start_time = time.time()\n",
    "        markov = algorithms.markov_clustering(lfrGraph)\n",
    "        print(\"Markov time:\", time.time() - start_time)\n",
    "        print()\n",
    "        \n",
    "        print(\"Running walktrap...\")\n",
    "        start_time = time.time()\n",
    "        walktrap = algorithms.walktrap(lfrGraph)\n",
    "        print(\"Walktrap time:\", time.time() - start_time)\n",
    "        print()\n",
    "        \n",
    "        print(\"Running label...\")\n",
    "        start_time = time.time()\n",
    "        label = algorithms.label_propagation(lfrGraph)\n",
    "        print(\"Label time:\", time.time() - start_time)\n",
    "        print()\n",
    "        \n",
    "        print(\"Running surprise...\")\n",
    "        start_time = time.time()\n",
    "        surprise = algorithms.surprise_communities(lfrGraph)\n",
    "        print(\"Surprise time:\", time.time() - start_time)\n",
    "        print()\n",
    "        \n",
    "        print(\"Running infomap...\")\n",
    "        infomapWrapper = Infomap(\"--two-level --silent\")\n",
    "        for e in lfrGraph.edges():\n",
    "                infomapWrapper.addLink(*e)\n",
    "        start_time = time.time()\n",
    "        infomapWrapper.run();\n",
    "        print(\"Infomap time:\", time.time() - start_time)\n",
    "        print()\n",
    "        \n",
    "        print()\n",
    "modularityMethods_times()"
   ]
  },
  {
   "cell_type": "markdown",
   "id": "93aecbd7",
   "metadata": {},
   "source": [
    "## Girvan-Newman "
   ]
  },
  {
   "cell_type": "code",
   "execution_count": 13,
   "id": "7d29761a",
   "metadata": {},
   "outputs": [
    {
     "name": "stdout",
     "output_type": "stream",
     "text": [
      "Girvan-Newman level= 6\n",
      "NMI= MatchingResult(score=0.9317556873378476, std=None)\n",
      "ARI= MatchingResult(score=0.8549146987844078, std=None)\n",
      "NF1= MatchingResult(score=0.6909765625000001, std=None)\n",
      "\n",
      "Girvan-Newman level= 7\n",
      "NMI= MatchingResult(score=0.9730071391054461, std=None)\n",
      "ARI= MatchingResult(score=0.9647955766789431, std=None)\n",
      "NF1= MatchingResult(score=0.8711111111111111, std=None)\n",
      "\n",
      "Girvan-Newman level= 8\n",
      "NMI= MatchingResult(score=0.9554977849497903, std=None)\n",
      "ARI= MatchingResult(score=0.9327680868993309, std=None)\n",
      "NF1= MatchingResult(score=0.768, std=None)\n",
      "\n",
      "Girvan-Newman level= 9\n",
      "NMI= MatchingResult(score=0.9668746754629265, std=None)\n",
      "ARI= MatchingResult(score=0.9472464103090809, std=None)\n",
      "NF1= MatchingResult(score=0.7045454545454546, std=None)\n",
      "\n",
      "Girvan-Newman level= 10\n",
      "NMI= MatchingResult(score=0.9521146182619482, std=None)\n",
      "ARI= MatchingResult(score=0.9200978002026522, std=None)\n",
      "NF1= MatchingResult(score=0.6358333333333333, std=None)\n",
      "\n",
      "Girvan-Newman level= 11\n",
      "NMI= MatchingResult(score=0.9450264139530422, std=None)\n",
      "ARI= MatchingResult(score=0.9061209546139737, std=None)\n",
      "NF1= MatchingResult(score=0.5853846153846154, std=None)\n",
      "\n",
      "Girvan-Newman level= 12\n",
      "NMI= MatchingResult(score=0.9338003138116149, std=None)\n",
      "ARI= MatchingResult(score=0.8865317429725915, std=None)\n",
      "NF1= MatchingResult(score=0.5364285714285714, std=None)\n",
      "\n"
     ]
    }
   ],
   "source": [
    "def girvanNewman(graph, coms):\n",
    "    levels = np.array([6, 7, 8, 9, 10, 11, 12])\n",
    "    for l in levels:\n",
    "        print(\"Girvan-Newman level=\",l)\n",
    "        gn = algorithms.girvan_newman(graph, level=l)\n",
    "        nmi = evaluation.normalized_mutual_information(coms, gn)\n",
    "        print(\"NMI=\",nmi)\n",
    "        ari = evaluation.adjusted_rand_index(coms, gn)\n",
    "        print(\"ARI=\",ari)\n",
    "        nf1 = evaluation.nf1(coms, gn)\n",
    "        print(\"NF1=\",nf1)\n",
    "        print()\n",
    "girvanNewman(lfrGraph, lfrComs)"
   ]
  },
  {
   "cell_type": "markdown",
   "id": "ae8aa3ed",
   "metadata": {},
   "source": [
    "## Eigenvector "
   ]
  },
  {
   "cell_type": "code",
   "execution_count": 14,
   "id": "0e8ef3b7",
   "metadata": {},
   "outputs": [
    {
     "name": "stdout",
     "output_type": "stream",
     "text": [
      "NMI= MatchingResult(score=0.8559797035616145, std=None)\n",
      "ARI= MatchingResult(score=0.8264675248093115, std=None)\n",
      "NF1= MatchingResult(score=0.8211111111111111, std=None)\n"
     ]
    }
   ],
   "source": [
    "def eigenvector(graph, coms):\n",
    "    eigen = algorithms.eigenvector(graph)\n",
    "    nmi = evaluation.normalized_mutual_information(coms, eigen)\n",
    "    print(\"NMI=\",nmi)\n",
    "    ari = evaluation.adjusted_rand_index(coms, eigen)\n",
    "    print(\"ARI=\",ari)\n",
    "    nf1 = evaluation.nf1(coms, eigen)\n",
    "    print(\"NF1=\",nf1)\n",
    "eigenvector(lfrGraph, lfrComs)"
   ]
  },
  {
   "cell_type": "markdown",
   "id": "5706e975",
   "metadata": {},
   "source": [
    "## Markov  "
   ]
  },
  {
   "cell_type": "code",
   "execution_count": 15,
   "id": "d390e30e",
   "metadata": {},
   "outputs": [
    {
     "name": "stdout",
     "output_type": "stream",
     "text": [
      "NMI= MatchingResult(score=0.7332192381279018, std=None)\n",
      "ARI= MatchingResult(score=0.5449588364393649, std=None)\n",
      "NF1= MatchingResult(score=0.08285714285714287, std=None)\n"
     ]
    }
   ],
   "source": [
    "def markov(graph, coms):\n",
    "    markov = algorithms.markov_clustering(graph)\n",
    "    nmi = evaluation.normalized_mutual_information(coms, markov)\n",
    "    print(\"NMI=\",nmi)\n",
    "    ari = evaluation.adjusted_rand_index(coms, markov)\n",
    "    print(\"ARI=\",ari)\n",
    "    nf1 = evaluation.nf1(coms, markov)\n",
    "    print(\"NF1=\",nf1)\n",
    "markov(lfrGraph, lfrComs)"
   ]
  },
  {
   "cell_type": "markdown",
   "id": "a826b6c5",
   "metadata": {},
   "source": [
    "## Walktrap "
   ]
  },
  {
   "cell_type": "code",
   "execution_count": 16,
   "id": "db16d7e0",
   "metadata": {},
   "outputs": [
    {
     "name": "stdout",
     "output_type": "stream",
     "text": [
      "NMI= MatchingResult(score=0.9777869939997959, std=None)\n",
      "ARI= MatchingResult(score=0.9641552830445758, std=None)\n",
      "NF1= MatchingResult(score=0.782, std=None)\n"
     ]
    }
   ],
   "source": [
    "def walktrap(graph, coms):\n",
    "    walktrap = algorithms.walktrap(graph)\n",
    "    nmi = evaluation.normalized_mutual_information(coms, walktrap)\n",
    "    print(\"NMI=\",nmi)\n",
    "    ari = evaluation.adjusted_rand_index(coms, walktrap)\n",
    "    print(\"ARI=\",ari)\n",
    "    nf1 = evaluation.nf1(coms, walktrap)\n",
    "    print(\"NF1=\",nf1)\n",
    "walktrap(lfrGraph, lfrComs)"
   ]
  },
  {
   "cell_type": "markdown",
   "id": "4007835e",
   "metadata": {},
   "source": [
    "## Label propagation "
   ]
  },
  {
   "cell_type": "code",
   "execution_count": 17,
   "id": "e4a67703",
   "metadata": {},
   "outputs": [
    {
     "name": "stdout",
     "output_type": "stream",
     "text": [
      "NMI= MatchingResult(score=0.7608218017065947, std=None)\n",
      "ARI= MatchingResult(score=0.574397476043304, std=None)\n",
      "NF1= MatchingResult(score=0.11857142857142858, std=None)\n"
     ]
    }
   ],
   "source": [
    "def label(graph, coms):\n",
    "    label = algorithms.label_propagation(graph)\n",
    "    nmi = evaluation.normalized_mutual_information(coms, label)\n",
    "    print(\"NMI=\",nmi)\n",
    "    ari = evaluation.adjusted_rand_index(coms, label)\n",
    "    print(\"ARI=\",ari)\n",
    "    nf1 = evaluation.nf1(coms, label)\n",
    "    print(\"NF1=\",nf1)\n",
    "label(lfrGraph, lfrComs)"
   ]
  },
  {
   "cell_type": "markdown",
   "id": "3310f50e",
   "metadata": {},
   "source": [
    "## Surprise "
   ]
  },
  {
   "cell_type": "code",
   "execution_count": 18,
   "id": "545b2fbf",
   "metadata": {},
   "outputs": [
    {
     "name": "stdout",
     "output_type": "stream",
     "text": [
      "NMI= MatchingResult(score=0.5448929940468413, std=None)\n",
      "ARI= MatchingResult(score=0.00044887192491078944, std=None)\n",
      "NF1= MatchingResult(score=1.4832329317269082, std=None)\n"
     ]
    }
   ],
   "source": [
    "def surprise(graph, coms):\n",
    "    surprise = algorithms.surprise_communities(graph)\n",
    "    nmi = evaluation.normalized_mutual_information(coms, surprise)\n",
    "    print(\"NMI=\",nmi)\n",
    "    ari = evaluation.adjusted_rand_index(coms, surprise)\n",
    "    print(\"ARI=\",ari)\n",
    "    nf1 = evaluation.nf1(coms, surprise)\n",
    "    print(\"NF1=\",nf1)\n",
    "surprise(lfrGraph, lfrComs)"
   ]
  },
  {
   "cell_type": "markdown",
   "id": "2bad22f9",
   "metadata": {},
   "source": [
    "## Infomap"
   ]
  },
  {
   "cell_type": "code",
   "execution_count": 11,
   "id": "7abf9c24",
   "metadata": {},
   "outputs": [
    {
     "name": "stdout",
     "output_type": "stream",
     "text": [
      "Infomap found 14 modules from 7 original modules\n",
      "NMI= MatchingResult(score=0.9215372784433574, std=None)\n"
     ]
    }
   ],
   "source": [
    "def infomap(graph, coms):\n",
    "    infomapWrapper = Infomap(\"--two-level --silent\")\n",
    "    for e in graph.edges():\n",
    "            infomapWrapper.addLink(*e)\n",
    "    infomapWrapper.run();\n",
    "    print(\"Infomap found %d modules from %d original modules\" % (infomapWrapper.num_top_modules, list(dict(coms.to_node_community_map()).values())[-1][0]))\n",
    "    communities = [[]] * infomapWrapper.num_top_modules\n",
    "    for node in infomapWrapper.tree:\n",
    "        if node.is_leaf:\n",
    "            if communities[node.module_id-1]:\n",
    "                communities[node.module_id-1].append(node.node_id)\n",
    "            else:\n",
    "                communities[node.module_id-1] = [node.node_id]\n",
    "    return NodeClustering(communities, graph, method_name=\"infomap\")\n",
    "infomapComs = infomap(lfrGraph, lfrComs)\n",
    "nmi = evaluation.normalized_mutual_information(lfrComs, infomapComs)\n",
    "print(\"NMI=\",nmi)"
   ]
  },
  {
   "cell_type": "markdown",
   "id": "53c41a10",
   "metadata": {},
   "source": [
    "## AGDL"
   ]
  },
  {
   "cell_type": "code",
   "execution_count": 21,
   "id": "89dcb957",
   "metadata": {},
   "outputs": [
    {
     "name": "stdout",
     "output_type": "stream",
     "text": [
      "Best AGDL nF1: 0.6081818181818182 for nc = 11 and kc = 3\n"
     ]
    }
   ],
   "source": [
    "def agdl(graph, coms):\n",
    "    nComs = np.array([3,5,7,9,11,13,15])\n",
    "    kcArray = np.array([3,5,7,9,11,13,15])\n",
    "    bestScore = 0\n",
    "    bestNC = 0\n",
    "    bestKC = 0\n",
    "    for nc in nComs:\n",
    "        for k in kcArray:\n",
    "            alg = algorithms.agdl(graph, number_communities=nc, kc=k)\n",
    "            score = evaluation.nf1(coms,alg)[0]\n",
    "            if score>bestScore:\n",
    "                bestScore = score\n",
    "                bestNC = nc\n",
    "                bestKC = k\n",
    "    print(\"Best AGDL nF1:\", bestScore, \"for nc =\", bestNC, \"and kc =\", bestKC)\n",
    "agdl(lfrGraph, lfrComs)"
   ]
  },
  {
   "cell_type": "markdown",
   "id": "6cb19168",
   "metadata": {},
   "source": [
    "## Walkscan "
   ]
  },
  {
   "cell_type": "code",
   "execution_count": 23,
   "id": "53417168",
   "metadata": {},
   "outputs": [
    {
     "name": "stdout",
     "output_type": "stream",
     "text": [
      "Overlapping NMI= MatchingResult(score=0.13026205778441313, std=None)\n"
     ]
    }
   ],
   "source": [
    "def walkscan(graph, coms):\n",
    "    walkscan = algorithms.kclique(graph, k=3)\n",
    "    nmi = evaluation.overlapping_normalized_mutual_information_LFK(coms, walkscan)\n",
    "    print(\"Overlapping NMI=\",nmi)\n",
    "walkscan(lfrGraph, lfrComs)"
   ]
  },
  {
   "cell_type": "code",
   "execution_count": null,
   "id": "9478f51f",
   "metadata": {},
   "outputs": [],
   "source": []
  }
 ],
 "metadata": {
  "kernelspec": {
   "display_name": "Python 3 (ipykernel)",
   "language": "python",
   "name": "python3"
  },
  "language_info": {
   "codemirror_mode": {
    "name": "ipython",
    "version": 3
   },
   "file_extension": ".py",
   "mimetype": "text/x-python",
   "name": "python",
   "nbconvert_exporter": "python",
   "pygments_lexer": "ipython3",
   "version": "3.9.10"
  }
 },
 "nbformat": 4,
 "nbformat_minor": 5
}
