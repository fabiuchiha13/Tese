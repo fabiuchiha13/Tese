{
 "cells": [
  {
   "cell_type": "code",
   "execution_count": 1,
   "id": "16ff307c",
   "metadata": {},
   "outputs": [],
   "source": [
    "import networkx as nx\n",
    "import pandas as pd\n",
    "import numpy as np\n",
    "from cdlib import algorithms, readwrite, evaluation, NodeClustering\n",
    "from cdlib.benchmark import LFR\n",
    "import matplotlib.pyplot as plt\n",
    "import time\n",
    "import csv\n",
    "from infomap import Infomap"
   ]
  },
  {
   "cell_type": "code",
   "execution_count": 2,
   "id": "f7f02055",
   "metadata": {},
   "outputs": [],
   "source": [
    "def averageDegree(graph):\n",
    "    degrees = [val for (node, val) in graph.degree()]\n",
    "    sum = 0\n",
    "    for d in degrees:\n",
    "        sum += d\n",
    "    return sum/len(degrees)"
   ]
  },
  {
   "cell_type": "code",
   "execution_count": 3,
   "id": "02f1d349",
   "metadata": {},
   "outputs": [],
   "source": [
    "def APL(graph):\n",
    "    if (nx.is_directed(graph)):\n",
    "        largestComponent = 0\n",
    "        largestAPL = 0\n",
    "        for C in (graph.subgraph(c) for c in nx.weakly_connected_components(graph)):\n",
    "            if largestComponent<len(C.nodes):\n",
    "                largestComponent = len(C.nodes)\n",
    "                apl = nx.average_shortest_path_length(C)\n",
    "                largestAPL = apl\n",
    "        return largestAPL\n",
    "    else:\n",
    "        for C in (graph.subgraph(c) for c in nx.connected_components(graph)):\n",
    "            return nx.average_shortest_path_length(C)"
   ]
  },
  {
   "cell_type": "code",
   "execution_count": 4,
   "id": "0d896f2f",
   "metadata": {},
   "outputs": [],
   "source": [
    "def kin(graph):\n",
    "    nodes = graph.nodes()\n",
    "    sum = 0\n",
    "    for n in nodes:\n",
    "        sum += graph.in_degree(n)\n",
    "    return sum/len(nodes)"
   ]
  },
  {
   "cell_type": "code",
   "execution_count": 5,
   "id": "87ff9cca",
   "metadata": {},
   "outputs": [],
   "source": [
    "def kout(graph):\n",
    "    nodes = graph.nodes()\n",
    "    sum = 0\n",
    "    for n in nodes:\n",
    "        sum += graph.out_degree(n)\n",
    "    return sum/len(nodes)"
   ]
  },
  {
   "cell_type": "code",
   "execution_count": 6,
   "id": "05001572",
   "metadata": {},
   "outputs": [],
   "source": [
    "def networkInfo(graph):\n",
    "    print(\"Average degree:\", averageDegree(graph))\n",
    "    if (nx.is_directed(graph)):\n",
    "        print(\"Internal average degree:\", kin(graph))\n",
    "        print(\"External average degree:\", kout(graph))\n",
    "    print(\"Clustering coefficient:\", nx.average_clustering(graph))\n",
    "    print(\"Average Path Length (highest value):\", APL(graph))"
   ]
  },
  {
   "cell_type": "code",
   "execution_count": 7,
   "id": "60071399",
   "metadata": {},
   "outputs": [],
   "source": [
    "def plotDegreeDistribution(graph):\n",
    "    fig = plt.figure(figsize=(6*1.61803398875, 6))\n",
    "    ax = plt.axes((0.2, 0.2, 0.70, 0.70), facecolor='w')\n",
    "    d = np.array(nx.degree_histogram(graph))\n",
    "    y = d / len(graph.nodes)\n",
    "    x = np.arange(len(y))\n",
    "    ax.plot(x,y,\"go\")\n",
    "    ax.set_xlabel(\"k\")\n",
    "    ax.set_ylabel(\"Pk\")\n",
    "    ax.set_yscale('log')\n",
    "    ax.set_xscale('log')\n",
    "    ax.set_title(\"Degree distribution\")\n",
    "    #ax.legend()\n",
    "    fig.savefig((\"Images/DegreeDistribution_%s.png\" % (graph.name)))\n",
    "    plt.close(fig)"
   ]
  },
  {
   "cell_type": "markdown",
   "id": "f2f34bf3",
   "metadata": {},
   "source": [
    "## Email network "
   ]
  },
  {
   "cell_type": "code",
   "execution_count": 27,
   "id": "6dd36bc1",
   "metadata": {},
   "outputs": [
    {
     "name": "stdout",
     "output_type": "stream",
     "text": [
      "DiGraph named 'Email_directed' with 1005 nodes and 25571 edges\n"
     ]
    }
   ],
   "source": [
    "def directedEmailNet(fileName):\n",
    "    raw = pd.read_csv(fileName, header=None)\n",
    "    raw = raw[0].str.split(n=2, expand=True)\n",
    "    raw.columns = ['Source', 'Target']\n",
    "    network = nx.from_pandas_edgelist(raw, source='Source', target='Target', edge_attr=None, create_using=nx.DiGraph())\n",
    "    network.name = \"Email_directed\"\n",
    "    return network\n",
    "\n",
    "directedGraph = directedEmailNet(\"Networks/Benchmark/email.txt\")\n",
    "directedGraph_int = nx.convert_node_labels_to_integers(directedGraph)\n",
    "print(directedGraph)\n",
    "#plotDegreeDistribution(directedGraph)\n",
    "#networkInfo(directedGraph)"
   ]
  },
  {
   "cell_type": "code",
   "execution_count": 28,
   "id": "1561ee73",
   "metadata": {},
   "outputs": [
    {
     "name": "stdout",
     "output_type": "stream",
     "text": [
      "Graph named 'Email_undirected' with 1005 nodes and 16706 edges\n"
     ]
    }
   ],
   "source": [
    "def undirectedEmailNet(fileName):\n",
    "    raw = pd.read_csv(fileName, header=None)\n",
    "    raw = raw[0].str.split(n=2, expand=True)\n",
    "    raw.columns = ['Source', 'Target']\n",
    "    network = nx.from_pandas_edgelist(raw, source='Source', target='Target', edge_attr=None)\n",
    "    network.name = \"Email_undirected\"\n",
    "    return network\n",
    "\n",
    "undirectedGraph = undirectedEmailNet(\"Networks/Benchmark/email.txt\")\n",
    "undirectedGraph_int = nx.convert_node_labels_to_integers(undirectedGraph)\n",
    "print(undirectedGraph)\n",
    "#plotDegreeDistribution(undirectedGraph)\n",
    "#networkInfo(undirectedGraph)"
   ]
  },
  {
   "cell_type": "markdown",
   "id": "b865cc0d",
   "metadata": {},
   "source": [
    "## Email communities "
   ]
  },
  {
   "cell_type": "code",
   "execution_count": 10,
   "id": "ec56b097",
   "metadata": {},
   "outputs": [],
   "source": [
    "def convertTxtToCsv():\n",
    "    txtFile = open('Networks/Benchmark/email_coms.txt', 'r')\n",
    "    \n",
    "    txtLines = txtFile.readlines()\n",
    "    csvLines = {}\n",
    "    \n",
    "    for line in txtLines:\n",
    "        lineVec = line[:-1].split(' ')\n",
    "        if lineVec[1] in csvLines.keys():\n",
    "            csvLines[lineVec[1]].append(lineVec[0])\n",
    "        else:\n",
    "            csvLines[lineVec[1]] = [lineVec[0]]\n",
    "            \n",
    "    with open('Networks/Benchmark/email_coms.csv', 'w',newline=\"\") as csv_file:  \n",
    "        writer = csv.writer(csv_file)\n",
    "        for key, value in csvLines.items():\n",
    "            writer.writerow(value)\n",
    "#convertTxtToCsv()\n",
    "emailComs = readwrite.read_community_csv('Networks/Benchmark/email_coms.csv', \",\", str)\n",
    "emailComs_int = readwrite.read_community_csv('Networks/Benchmark/email_coms.csv', \",\", int)"
   ]
  },
  {
   "cell_type": "markdown",
   "id": "563ee2f0",
   "metadata": {},
   "source": [
    "## Accuracy"
   ]
  },
  {
   "cell_type": "code",
   "execution_count": 33,
   "id": "07a39f87",
   "metadata": {},
   "outputs": [
    {
     "name": "stdout",
     "output_type": "stream",
     "text": [
      "Running greedy...\n",
      "Running genetic...\n",
      "Running louvain...\n",
      "Running leiden...\n",
      "Running paris...\n",
      "Running edmot...\n",
      "Running girvan-newman...\n",
      "Running eigenvector...\n",
      "Running markov...\n",
      "Running walktrap...\n",
      "Running label...\n",
      "Running surprise...\n",
      "Running infomap...\n",
      "\n",
      "Greedy NMI: 0.47804271515621377\n",
      "Louvain NMI: 0.5626648416549228\n",
      "Leiden NMI: 0.5807526699272471\n",
      "Paris NMI: 0.03291866226028452\n",
      "Edmot NMI: 0.4308017550093902\n",
      "Eigenvector NMI: 0.513964159513045\n",
      "Markov NMI: 0.4285244451150287\n",
      "Walktrap NMI: 0.5804119999038778\n",
      "Label NMI: 0.18029348991274805\n",
      "Surprise NMI: 0.6486262967064623\n",
      "Infomap NMI: 0.6447904774975328\n",
      "\n",
      "Greedy ARI: 0.17230136932066062\n",
      "Louvain ARI: 0.2855519295101255\n",
      "Leiden ARI: 0.3471046847690125\n",
      "Paris ARI: -0.0007319958862987065\n",
      "Edmot ARI: 0.08785682249274863\n",
      "Eigenvector ARI: 0.26111991499699994\n",
      "Markov ARI: 0.05416631630128914\n",
      "Walktrap ARI: 0.1974976307722098\n",
      "Label ARI: 0.011373024191370956\n",
      "Surprise ARI: 8.09799716293502e-05\n",
      "Infomap ARI: 0.30285515191212864\n",
      "\n",
      "Greedy NF1: 0.004670282369146006\n",
      "Louvain NF1: 0.012429052429052427\n",
      "Leiden NF1: 0.012240642759161277\n",
      "Paris NF1: 5.4988662131519274e-05\n",
      "Edmot NF1: 0.029326145552560648\n",
      "Eigenvector NF1: 0.009682539682539685\n",
      "Markov NF1: 0.005128246753246753\n",
      "Walktrap NF1: 0.005584320301855151\n",
      "Label NF1: 0.00016529418785057884\n",
      "Surprise NF1: 1.7099511477897933\n",
      "Infomap NF1: 0.027374842899036453\n"
     ]
    }
   ],
   "source": [
    "def accuracy():\n",
    "        \n",
    "    print(\"Running greedy...\")\n",
    "    greedy = algorithms.greedy_modularity(undirectedGraph)\n",
    "    print(\"Running genetic...\")\n",
    "    #genetic = algorithms.ga(undirectedGraph)\n",
    "    print(\"Running louvain...\")\n",
    "    louvain = algorithms.louvain(undirectedGraph)\n",
    "    print(\"Running leiden...\")\n",
    "    leiden = algorithms.leiden(undirectedGraph)\n",
    "    print(\"Running paris...\")\n",
    "    paris = algorithms.paris(undirectedGraph)\n",
    "    print(\"Running edmot...\")\n",
    "    edmot = algorithms.edmot(undirectedGraph_int)\n",
    "    print(\"Running girvan-newman...\")\n",
    "    #gn = algorithms.girvan_newman(undirectedGraph, level=7)\n",
    "    print(\"Running eigenvector...\")\n",
    "    eigen = algorithms.eigenvector(undirectedGraph)\n",
    "    print(\"Running markov...\")\n",
    "    markov = algorithms.markov_clustering(undirectedGraph)\n",
    "    print(\"Running walktrap...\")\n",
    "    walktrap = algorithms.walktrap(undirectedGraph)\n",
    "    print(\"Running label...\")\n",
    "    label = algorithms.label_propagation(undirectedGraph)\n",
    "    print(\"Running surprise...\")\n",
    "    surprise = algorithms.surprise_communities(undirectedGraph)\n",
    "    print(\"Running infomap...\")\n",
    "    infomapComs = infomap(undirectedGraph)\n",
    "    print(\"Running cfinder...\")\n",
    "    cfinder = algorithms.kclique(undirectedGraph, k=3)\n",
    "    print(\"Running conga...\")\n",
    "    conga = algorithms.conga(undirectedGraph, number_communities=3)\n",
    "    print(\"Running walkscan...\")\n",
    "    walkscan = algorithms.walkscan(undirectedGraph)\n",
    "    print(\"Running lpanni...\")\n",
    "    lpanni = algorithms.lpanni(undirectedGraph)\n",
    "    \n",
    "    print()\n",
    "\n",
    "    nmi1 = evaluation.normalized_mutual_information(emailComs, greedy)\n",
    "    print(\"Greedy NMI:\", nmi1[0])\n",
    "    #nmi2 = evaluation.normalized_mutual_information(emailComs, genetic)\n",
    "    #print(\"Genetic NMI:\", nmi2[0])\n",
    "    nmi3 = evaluation.normalized_mutual_information(emailComs, louvain)\n",
    "    print(\"Louvain NMI:\", nmi3[0])\n",
    "    nmi4 = evaluation.normalized_mutual_information(emailComs, leiden)\n",
    "    print(\"Leiden NMI:\", nmi4[0])\n",
    "    nmi5 = evaluation.normalized_mutual_information(emailComs_int, paris)\n",
    "    print(\"Paris NMI:\", nmi5[0])\n",
    "    nmi6 = evaluation.normalized_mutual_information(emailComs_int, edmot)\n",
    "    print(\"Edmot NMI:\", nmi6[0])\n",
    "    #nmi7 = evaluation.normalized_mutual_information(emailComs, gn)\n",
    "    #print(\"Girvan-Newman NMI:\", nmi7[0])\n",
    "    nmi8 = evaluation.normalized_mutual_information(emailComs, eigen)\n",
    "    print(\"Eigenvector NMI:\", nmi8[0])\n",
    "    nmi9 = evaluation.normalized_mutual_information(emailComs, markov)\n",
    "    print(\"Markov NMI:\", nmi9[0])\n",
    "    nmi10 = evaluation.normalized_mutual_information(emailComs, walktrap)\n",
    "    print(\"Walktrap NMI:\", nmi10[0])\n",
    "    nmi11 = evaluation.normalized_mutual_information(emailComs, label)\n",
    "    print(\"Label NMI:\", nmi11[0])\n",
    "    nmi12 = evaluation.normalized_mutual_information(emailComs, surprise)\n",
    "    print(\"Surprise NMI:\", nmi12[0])\n",
    "    nmi13 = evaluation.normalized_mutual_information(emailComs_int, infomapComs)\n",
    "    print(\"Infomap NMI:\", nmi13[0])\n",
    "    \n",
    "    print()\n",
    "\n",
    "    ari1 = evaluation.adjusted_rand_index(emailComs, greedy)\n",
    "    print(\"Greedy ARI:\", ari1[0])\n",
    "    #ari2 = evaluation.adjusted_rand_index(emailComs, genetic)\n",
    "    #print(\"Genetic ARI:\", ari2[0])\n",
    "    ari3 = evaluation.adjusted_rand_index(emailComs, louvain)\n",
    "    print(\"Louvain ARI:\", ari3[0])\n",
    "    ari4 = evaluation.adjusted_rand_index(emailComs, leiden)\n",
    "    print(\"Leiden ARI:\", ari4[0])\n",
    "    ari5 = evaluation.adjusted_rand_index(emailComs_int, paris)\n",
    "    print(\"Paris ARI:\", ari5[0])\n",
    "    ari6 = evaluation.adjusted_rand_index(emailComs_int, edmot)\n",
    "    print(\"Edmot ARI:\", ari6[0])\n",
    "    #ari7 = evaluation.adjusted_rand_index(emailComs, gn)\n",
    "    #print(\"Girvan-Newman ARI:\", ari7[0])\n",
    "    ari8 = evaluation.adjusted_rand_index(emailComs, eigen)\n",
    "    print(\"Eigenvector ARI:\", ari8[0])\n",
    "    ari9 = evaluation.adjusted_rand_index(emailComs, markov)\n",
    "    print(\"Markov ARI:\", ari9[0])\n",
    "    ari10 = evaluation.adjusted_rand_index(emailComs, walktrap)\n",
    "    print(\"Walktrap ARI:\", ari10[0])\n",
    "    ari11 = evaluation.adjusted_rand_index(emailComs, label)\n",
    "    print(\"Label ARI:\", ari11[0])\n",
    "    ari12 = evaluation.adjusted_rand_index(emailComs, surprise)\n",
    "    print(\"Surprise ARI:\", ari12[0])\n",
    "    ari13 = evaluation.adjusted_rand_index(emailComs_int, infomapComs)\n",
    "    print(\"Infomap ARI:\", ari13[0])\n",
    "    \n",
    "    print()\n",
    "\n",
    "    nf11 = evaluation.nf1(emailComs, greedy)\n",
    "    print(\"Greedy NF1:\", nf11[0])\n",
    "    #nf12 = evaluation.nf1(emailComs, genetic)\n",
    "    #print(\"Genetic NF1:\", nf12[0])\n",
    "    nf13 = evaluation.nf1(emailComs, louvain)\n",
    "    print(\"Louvain NF1:\", nf13[0])\n",
    "    nf14 = evaluation.nf1(emailComs, leiden)\n",
    "    print(\"Leiden NF1:\", nf14[0])\n",
    "    nf15 = evaluation.nf1(emailComs_int, paris)\n",
    "    print(\"Paris NF1:\", nf15[0])\n",
    "    nf16 = evaluation.nf1(emailComs_int, edmot)\n",
    "    print(\"Edmot NF1:\", nf16[0])\n",
    "    #nf17 = evaluation.nf1(emailComs, gn)\n",
    "    #print(\"Girvan-Newman NF1:\", nf17[0])\n",
    "    nf18 = evaluation.nf1(emailComs, eigen)\n",
    "    print(\"Eigenvector NF1:\", nf18[0])\n",
    "    nf19 = evaluation.nf1(emailComs, markov)\n",
    "    print(\"Markov NF1:\", nf19[0])\n",
    "    nf110 = evaluation.nf1(emailComs, walktrap)\n",
    "    print(\"Walktrap NF1:\", nf110[0])\n",
    "    nf111 = evaluation.nf1(emailComs, label)\n",
    "    print(\"Label NF1:\", nf111[0])\n",
    "    nf112 = evaluation.nf1(emailComs, surprise)\n",
    "    print(\"Surprise NF1:\", nf112[0])\n",
    "    nf113 = evaluation.nf1(emailComs_int, infomapComs)\n",
    "    print(\"Infomap NF1:\", nf113[0])\n",
    "    \n",
    "    \n",
    "accuracy()"
   ]
  },
  {
   "cell_type": "code",
   "execution_count": 46,
   "id": "1aa41dcd",
   "metadata": {},
   "outputs": [
    {
     "name": "stdout",
     "output_type": "stream",
     "text": [
      "Running cfinder...\n",
      "Running conga...\n",
      "Running walkscan...\n",
      "Running lpanni...\n",
      "\n",
      "Walkscan NMI_LFK: 0.018419531686228785\n",
      "LPANNI NMI_LFK: 0.005680634041260069\n"
     ]
    }
   ],
   "source": [
    "def accuracy_overlapping():\n",
    "        \n",
    "    print(\"Running cfinder...\")\n",
    "    #cfinder = algorithms.kclique(undirectedGraph, k=3)\n",
    "    print(\"Running conga...\")\n",
    "    #conga = algorithms.conga(undirectedGraph, number_communities=3)\n",
    "    print(\"Running walkscan...\")\n",
    "    walkscan = algorithms.walkscan(undirectedGraph)\n",
    "    print(\"Running lpanni...\")\n",
    "    lpanni = algorithms.lpanni(undirectedGraph)\n",
    "    \n",
    "    print()\n",
    "\n",
    "    #nmi1 = evaluation.overlapping_normalized_mutual_information_LFK(emailComs, cfinder)\n",
    "    #print(\"CFinder NMI_LFK:\", nmi1[0])\n",
    "    #nmi2 = evaluation.overlapping_normalized_mutual_information_LFK(emailComs, conga)\n",
    "    #print(\"CONGA NMI_LFK:\", nmi2[0])\n",
    "    nmi3 = evaluation.overlapping_normalized_mutual_information_LFK(emailComs, walkscan)\n",
    "    print(\"Walkscan NMI_LFK:\", nmi3[0])\n",
    "    nmi4 = evaluation.overlapping_normalized_mutual_information_LFK(emailComs, lpanni)\n",
    "    print(\"LPANNI NMI_LFK:\", nmi4[0])\n",
    "\n",
    "    \n",
    "accuracy_overlapping()"
   ]
  },
  {
   "cell_type": "markdown",
   "id": "13b6abf1",
   "metadata": {},
   "source": [
    "## Infomap"
   ]
  },
  {
   "cell_type": "code",
   "execution_count": 34,
   "id": "a694a41d",
   "metadata": {
    "scrolled": false
   },
   "outputs": [],
   "source": [
    "def infomap(graph):\n",
    "    infomapWrapper = Infomap(\"--two-level --silent\")\n",
    "    for e in graph.edges():\n",
    "        infomapWrapper.addLink(int(e[0]), int(e[1]))\n",
    "    infomapWrapper.run();\n",
    "    communities = [[]] * infomapWrapper.num_top_modules\n",
    "    for node in infomapWrapper.tree:\n",
    "        if node.is_leaf:\n",
    "            if communities[node.module_id-1]:\n",
    "                communities[node.module_id-1].append(node.node_id)\n",
    "            else:\n",
    "                communities[node.module_id-1] = [node.node_id]\n",
    "    return NodeClustering(communities, graph, method_name=\"infomap\")"
   ]
  },
  {
   "cell_type": "code",
   "execution_count": null,
   "id": "9a62b5ec",
   "metadata": {},
   "outputs": [],
   "source": []
  }
 ],
 "metadata": {
  "kernelspec": {
   "display_name": "Python 3 (ipykernel)",
   "language": "python",
   "name": "python3"
  },
  "language_info": {
   "codemirror_mode": {
    "name": "ipython",
    "version": 3
   },
   "file_extension": ".py",
   "mimetype": "text/x-python",
   "name": "python",
   "nbconvert_exporter": "python",
   "pygments_lexer": "ipython3",
   "version": "3.9.10"
  }
 },
 "nbformat": 4,
 "nbformat_minor": 5
}
