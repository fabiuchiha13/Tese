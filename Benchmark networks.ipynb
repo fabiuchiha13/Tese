{
 "cells": [
  {
   "cell_type": "code",
   "execution_count": 1,
   "id": "7f5d0c6d",
   "metadata": {},
   "outputs": [],
   "source": [
    "import networkx as nx\n",
    "import pandas as pd\n",
    "import numpy as np\n",
    "from cdlib import algorithms, readwrite, evaluation, NodeClustering\n",
    "from cdlib.benchmark import LFR, SBM\n",
    "import matplotlib.pyplot as plt\n",
    "import time"
   ]
  },
  {
   "cell_type": "code",
   "execution_count": 2,
   "id": "fd87592a",
   "metadata": {},
   "outputs": [],
   "source": [
    "def averageDegree(graph):\n",
    "    degrees = [val for (node, val) in graph.degree()]\n",
    "    sum = 0\n",
    "    for d in degrees:\n",
    "        sum += d\n",
    "    return sum/len(degrees)"
   ]
  },
  {
   "cell_type": "code",
   "execution_count": 3,
   "id": "f7b9e7c3",
   "metadata": {},
   "outputs": [],
   "source": [
    "def APL(graph):\n",
    "    for C in (graph.subgraph(c) for c in nx.connected_components(graph)):\n",
    "        return nx.average_shortest_path_length(C)"
   ]
  },
  {
   "cell_type": "code",
   "execution_count": 4,
   "id": "01ca9bc1",
   "metadata": {},
   "outputs": [],
   "source": [
    "def networkInfo(graph):\n",
    "    print(\"Average degree:\", averageDegree(graph))\n",
    "    print(\"Clustering coefficient:\", nx.average_clustering(graph))\n",
    "    print(\"Average Path Length (highest value):\", APL(graph))"
   ]
  },
  {
   "cell_type": "code",
   "execution_count": 23,
   "id": "89dcb957",
   "metadata": {},
   "outputs": [
    {
     "name": "stdout",
     "output_type": "stream",
     "text": [
      "Best AGDL nF1: 0.5361538461538462 for nc = 13 and kc = 3\n"
     ]
    }
   ],
   "source": [
    "nComs = np.array([3,5,7,9,11,13,15])\n",
    "kcArray = np.array([3,5,7,9,11,13,15])\n",
    "bestScore = 0\n",
    "bestNC = 0\n",
    "bestKC = 0\n",
    "for nc in nComs:\n",
    "    for k in kcArray:\n",
    "        alg = algorithms.agdl(lfrNet, number_communities=nc, kc=k)\n",
    "        score = evaluation.nf1(coms,alg)[0]\n",
    "        if score>bestScore:\n",
    "            bestScore = score\n",
    "            bestNC = nc\n",
    "            bestKC = k\n",
    "print(\"Best AGDL nF1:\", bestScore, \"for nc =\", bestNC, \"and kc =\", bestKC)"
   ]
  },
  {
   "cell_type": "code",
   "execution_count": 52,
   "id": "e41b3227",
   "metadata": {},
   "outputs": [
    {
     "name": "stdout",
     "output_type": "stream",
     "text": [
      "Genetic time: 566.5545408725739 seconds\n"
     ]
    }
   ],
   "source": [
    "graph, coms = LFR(500, 3, 1.5, 0.1, average_degree=5, min_community=20)\n",
    "start_time = time.time()\n",
    "ga = algorithms.ga(graph)\n",
    "print(\"Genetic time: %s seconds\" % (time.time() - start_time))"
   ]
  },
  {
   "cell_type": "code",
   "execution_count": 78,
   "id": "05facec6",
   "metadata": {},
   "outputs": [
    {
     "name": "stdout",
     "output_type": "stream",
     "text": [
      "Average degree: 4.088\n",
      "Clustering coefficient: 0.17332609715865524\n",
      "Average Path Length (highest value): 5.145485166472341\n",
      "\n",
      "Average degree: 4.216\n",
      "Clustering coefficient: 0.11062557597441315\n",
      "Average Path Length (highest value): 4.117429718875502\n",
      "\n",
      "Average degree: 4.16\n",
      "Clustering coefficient: 0.050231800802276\n",
      "Average Path Length (highest value): 3.8725871226842856\n",
      "\n",
      "Average degree: 4.24\n",
      "Clustering coefficient: 0.03852616722366954\n",
      "Average Path Length (highest value): 3.757301204819277\n",
      "\n",
      "Average degree: 4.24\n",
      "Clustering coefficient: 0.032451349392097616\n",
      "Average Path Length (highest value): 3.71004016064257\n",
      "\n",
      "Average degree: 4.312\n",
      "Clustering coefficient: 0.05003929323120424\n",
      "Average Path Length (highest value): 3.6898719594483396\n",
      "\n",
      "Average degree: 4.224\n",
      "Clustering coefficient: 0.040317234456364884\n",
      "Average Path Length (highest value): 3.6806843411257675\n",
      "\n"
     ]
    }
   ],
   "source": [
    "n = 250\n",
    "tau1 = 3\n",
    "tau2 = 1.5\n",
    "#mu = 0.1\n",
    "mus = np.array([0.1, 0.2, 0.3, 0.4, 0.5, 0.6, 0.7])\n",
    "b = \"LFR\"\n",
    "\n",
    "resultsGreedyNMI = []\n",
    "resultsGeneticNMI = []\n",
    "resultsLouvainNMI = []\n",
    "resultsLeidenNMI = []\n",
    "resultsParisNMI = []\n",
    "resultsEdmotNMI = []\n",
    "\n",
    "resultsGreedyARI = []\n",
    "resultsGeneticARI = []\n",
    "resultsLouvainARI = []\n",
    "resultsLeidenARI = []\n",
    "resultsParisARI = []\n",
    "resultsEdmotARI = []\n",
    "\n",
    "resultsGreedyNF1 = []\n",
    "resultsGeneticNF1 = []\n",
    "resultsLouvainNF1 = []\n",
    "resultsLeidenNF1 = []\n",
    "resultsParisNF1 = []\n",
    "resultsEdmotNF1 = []\n",
    "\n",
    "for mu in mus:\n",
    "    lfrGraph, comsLFR = LFR(n, tau1, tau2, mu, average_degree=5, min_community=20)\n",
    "    networkInfo(lfrGraph)\n",
    "\n",
    "    greedy = algorithms.greedy_modularity(lfrGraph)\n",
    "    genetic = algorithms.ga(lfrGraph) \n",
    "    louvain = algorithms.louvain(lfrGraph)\n",
    "    leiden = algorithms.leiden(lfrGraph)\n",
    "    paris = algorithms.paris(lfrGraph)\n",
    "    edmot = algorithms.edmot(lfrGraph)\n",
    "    \n",
    "    nmi1 = evaluation.normalized_mutual_information(comsLFR, greedy)\n",
    "    resultsGreedyNMI.append(nmi1[0])\n",
    "    nmi2 = evaluation.normalized_mutual_information(comsLFR, genetic)\n",
    "    resultsGeneticNMI.append(nmi2[0])\n",
    "    nmi3 = evaluation.normalized_mutual_information(comsLFR, louvain)\n",
    "    resultsLouvainNMI.append(nmi3[0])\n",
    "    nmi4 = evaluation.normalized_mutual_information(comsLFR, leiden)\n",
    "    resultsLeidenNMI.append(nmi4[0])\n",
    "    nmi5 = evaluation.normalized_mutual_information(comsLFR, paris)\n",
    "    resultsParisNMI.append(nmi5[0])\n",
    "    nmi6 = evaluation.normalized_mutual_information(comsLFR, edmot)\n",
    "    resultsEdmotNMI.append(nmi6[0])\n",
    "    \n",
    "    ari1 = evaluation.adjusted_rand_index(comsLFR, greedy)\n",
    "    resultsGreedyARI.append(ari1[0])\n",
    "    ari2 = evaluation.adjusted_rand_index(comsLFR, genetic)\n",
    "    resultsGeneticARI.append(ari2[0])\n",
    "    ari3 = evaluation.adjusted_rand_index(comsLFR, louvain)\n",
    "    resultsLouvainARI.append(ari3[0])\n",
    "    ari4 = evaluation.adjusted_rand_index(comsLFR, leiden)\n",
    "    resultsLeidenARI.append(ari4[0])\n",
    "    ari5 = evaluation.adjusted_rand_index(comsLFR, paris)\n",
    "    resultsParisARI.append(ari5[0])\n",
    "    ari6 = evaluation.adjusted_rand_index(comsLFR, edmot)\n",
    "    resultsEdmotARI.append(ari6[0])\n",
    "    \n",
    "    nf11 = evaluation.nf1(comsLFR, greedy)\n",
    "    resultsGreedyNF1.append(nf11[0])\n",
    "    nf12 = evaluation.nf1(comsLFR, genetic)\n",
    "    resultsGeneticNF1.append(nf12[0])\n",
    "    nf13 = evaluation.nf1(comsLFR, louvain)\n",
    "    resultsLouvainNF1.append(nf13[0])\n",
    "    nf14 = evaluation.nf1(comsLFR, leiden)\n",
    "    resultsLeidenNF1.append(nf14[0])\n",
    "    nf15 = evaluation.nf1(comsLFR, paris)\n",
    "    resultsParisNF1.append(nf15[0])\n",
    "    nf16 = evaluation.nf1(comsLFR, edmot)\n",
    "    resultsEdmotNF1.append(nf16[0])\n",
    "    \n",
    "    print()\n"
   ]
  },
  {
   "cell_type": "code",
   "execution_count": 79,
   "id": "a7a9e779",
   "metadata": {},
   "outputs": [],
   "source": [
    "fig = plt.figure(figsize=(3*1.61803398875, 3))\n",
    "ax = plt.axes((0.2, 0.2, 0.70, 0.70), facecolor='w')\n",
    "\n",
    "ax.plot(mus,resultsGreedyNMI, \"-bo\", label = \"Greedy\")\n",
    "ax.plot(mus,resultsGeneticNMI, \"-yo\", label = \"Genetic\")\n",
    "ax.plot(mus,resultsLouvainNMI, \"-ro\", label = \"Louvain\")\n",
    "ax.plot(mus,resultsLeidenNMI, \"-go\", label = \"Leiden\")\n",
    "ax.plot(mus,resultsParisNMI, \"-co\", label = \"Paris\")\n",
    "ax.plot(mus,resultsEdmotNMI, \"-mo\", label = \"Edmot\")\n",
    "\n",
    "\n",
    "ax.set_xlabel(chr(945+11))\n",
    "ax.set_ylabel(\"Performance\")\n",
    "ax.set_title(\"NMI Accuracy - 250 nodes\")\n",
    "ax.legend()\n",
    "fig.savefig(\"NMI_250_%s.png\" % (b))\n",
    "plt.close(fig)"
   ]
  },
  {
   "cell_type": "code",
   "execution_count": 80,
   "id": "fe3e84e2",
   "metadata": {},
   "outputs": [],
   "source": [
    "fig = plt.figure(figsize=(3*1.61803398875, 3))\n",
    "ax = plt.axes((0.2, 0.2, 0.70, 0.70), facecolor='w')\n",
    "\n",
    "ax.plot(mus,resultsGreedyARI, \"-bo\", label = \"Greedy\")\n",
    "ax.plot(mus,resultsGeneticARI, \"-yo\", label = \"Genetic\")\n",
    "ax.plot(mus,resultsLouvainARI, \"-ro\", label = \"Louvain\")\n",
    "ax.plot(mus,resultsLeidenARI, \"-go\", label = \"Leiden\")\n",
    "ax.plot(mus,resultsParisARI, \"-co\", label = \"Paris\")\n",
    "ax.plot(mus,resultsEdmotARI, \"-mo\", label = \"Edmot\")\n",
    "\n",
    "\n",
    "ax.set_xlabel(chr(945+11))\n",
    "ax.set_ylabel(\"Performance\")\n",
    "ax.set_title(\"ARI Accuracy - 250 nodes\")\n",
    "ax.legend()\n",
    "fig.savefig(\"ARI_250_%s.png\" % (b))\n",
    "plt.close(fig)"
   ]
  },
  {
   "cell_type": "code",
   "execution_count": 81,
   "id": "b499fb46",
   "metadata": {},
   "outputs": [],
   "source": [
    "fig = plt.figure(figsize=(3*1.61803398875, 3))\n",
    "ax = plt.axes((0.2, 0.2, 0.70, 0.70), facecolor='w')\n",
    "\n",
    "ax.plot(mus,resultsGreedyNF1, \"-bo\", label = \"Greedy\")\n",
    "ax.plot(mus,resultsGeneticNF1, \"-yo\", label = \"Genetic\")\n",
    "ax.plot(mus,resultsLouvainNF1, \"-ro\", label = \"Louvain\")\n",
    "ax.plot(mus,resultsLeidenNF1, \"-go\", label = \"Leiden\")\n",
    "ax.plot(mus,resultsParisNF1, \"-co\", label = \"Paris\")\n",
    "ax.plot(mus,resultsEdmotNF1, \"-mo\", label = \"Edmot\")\n",
    "\n",
    "\n",
    "ax.set_xlabel(chr(945+11))\n",
    "ax.set_ylabel(\"Performance\")\n",
    "ax.set_title(\"NF1 Accuracy - 250 nodes\")\n",
    "ax.legend()\n",
    "fig.savefig(\"NF1_250_%s.png\" % (b))\n",
    "plt.close(fig)"
   ]
  },
  {
   "cell_type": "code",
   "execution_count": null,
   "id": "2f216b68",
   "metadata": {},
   "outputs": [],
   "source": []
  }
 ],
 "metadata": {
  "kernelspec": {
   "display_name": "Python 3 (ipykernel)",
   "language": "python",
   "name": "python3"
  },
  "language_info": {
   "codemirror_mode": {
    "name": "ipython",
    "version": 3
   },
   "file_extension": ".py",
   "mimetype": "text/x-python",
   "name": "python",
   "nbconvert_exporter": "python",
   "pygments_lexer": "ipython3",
   "version": "3.9.10"
  }
 },
 "nbformat": 4,
 "nbformat_minor": 5
}
